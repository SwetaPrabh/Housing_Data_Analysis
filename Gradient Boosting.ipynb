{
 "cells": [
  {
   "cell_type": "code",
   "execution_count": 4,
   "id": "3f8565c9",
   "metadata": {},
   "outputs": [],
   "source": [
    "import numpy as np\n",
    "import pandas as pd\n",
    "import sklearn.ensemble\n",
    "%matplotlib inline\n",
    "import matplotlib.pyplot as plt\n",
    "plt.style.use('ggplot')"
   ]
  },
  {
   "cell_type": "code",
   "execution_count": 5,
   "id": "4401fcde",
   "metadata": {},
   "outputs": [],
   "source": [
    "from sklearn.ensemble import GradientBoostingRegressor"
   ]
  },
  {
   "cell_type": "code",
   "execution_count": 29,
   "id": "9370601c",
   "metadata": {},
   "outputs": [],
   "source": [
    "import bamboolib"
   ]
  },
  {
   "cell_type": "code",
   "execution_count": 6,
   "id": "21fc31ab",
   "metadata": {},
   "outputs": [],
   "source": [
    "features_train = pd.read_csv('train_final.csv')\n",
    "features_test = pd.read_csv('test_final.csv')\n",
    "features_test[\"BsmtFullBath\"].fillna(0, inplace = True)\n",
    "features_test[\"BsmtHalfBath\"].fillna(0, inplace = True)"
   ]
  },
  {
   "cell_type": "code",
   "execution_count": 7,
   "id": "f3d7ee9d",
   "metadata": {},
   "outputs": [],
   "source": [
    "labels_train = np.array(features_train['SalePrice'])\n",
    "labels_test = np.array(features_test['SalePrice'])"
   ]
  },
  {
   "cell_type": "code",
   "execution_count": 8,
   "id": "031ca6e0",
   "metadata": {},
   "outputs": [],
   "source": [
    "features_train = features_train.drop('SalePrice', axis = 1)\n",
    "features_test = features_test.drop('SalePrice', axis = 1)"
   ]
  },
  {
   "cell_type": "code",
   "execution_count": 31,
   "id": "a9de4978",
   "metadata": {
    "scrolled": true
   },
   "outputs": [],
   "source": [
    "features_train[\"house_age\"] = features_train['YrSold'] - features_train['YearBuilt']\n",
    "features_test[\"house_age\"] = features_test['YrSold'] - features_test['YearBuilt']"
   ]
  },
  {
   "cell_type": "code",
   "execution_count": 33,
   "id": "cbb6c055",
   "metadata": {},
   "outputs": [],
   "source": [
    "features_train = features_train.drop('YrSold', axis = 1)\n",
    "features_test = features_test.drop('YrSold', axis = 1)\n",
    "features_train = features_train.drop('YearBuilt', axis = 1)\n",
    "features_test = features_test.drop('YearBuilt', axis = 1)"
   ]
  },
  {
   "cell_type": "code",
   "execution_count": 34,
   "id": "a5d3dd67",
   "metadata": {},
   "outputs": [],
   "source": [
    "gbm = GradientBoostingRegressor()"
   ]
  },
  {
   "cell_type": "raw",
   "id": "308b0864",
   "metadata": {},
   "source": [
    "The Hyperparameters of Gradient Boosting Model\n",
    "\n",
    "A boosting tree is an ensemble of trees, thus it inherits all the hyperparameters of decision trees\n",
    "max_depth: max tree height, default value 3\n",
    "max_leaf_nodes\n",
    "min_samples_leaf\n",
    "min_samples_split\n",
    "min_impurity_decrease\n",
    "min_impurity_split\n",
    "\n",
    "criterion: the criterion for tree splitting, defaulted to friedman_mse. friedman_mse is the same as mse (mean square error) when the loss function is chosen to be ls (least square)\n",
    "\n",
    "As with all tree based model, boosting trees output\n",
    "feature_importances_\n",
    "\n",
    "On the other hand, there are ensemble-specific hyperparameters\n",
    "n_estimators: the number of trees, default value 100\n",
    "learning_rate: the shrinkage/discount factor, default value 0.1\n",
    "subsamples: the sample count in term of percentage used for a single tree training\n",
    "max_features: the integer or percentage count of the number of random feature selected for one tree node\n",
    "Besides the regular predict method, the boosting tree has its own\n",
    "staged_predict: this method returns a generator. After kth next function call on the generator, it spits out the predicted values after k-th boosting iteration\n",
    "estimators_: it stores all the n_estimators trees used in building the boosting tree ensemble"
   ]
  },
  {
   "cell_type": "code",
   "execution_count": 35,
   "id": "51dcd1ee",
   "metadata": {},
   "outputs": [
    {
     "data": {
      "text/plain": [
       "GradientBoostingRegressor(verbose=1)"
      ]
     },
     "execution_count": 35,
     "metadata": {},
     "output_type": "execute_result"
    }
   ],
   "source": [
    "gbm.set_params(verbose=1)"
   ]
  },
  {
   "cell_type": "code",
   "execution_count": 36,
   "id": "2fc51b6d",
   "metadata": {},
   "outputs": [
    {
     "name": "stdout",
     "output_type": "stream",
     "text": [
      "      Iter       Train Loss   Remaining Time \n",
      "         1  4297802070.6113            1.50s\n",
      "         2  3705255341.9370            1.47s\n",
      "         3  3217910822.1720            1.45s\n",
      "         4  2812695410.0985            1.45s\n",
      "         5  2463275490.7506            1.46s\n",
      "         6  2168339061.2339            1.42s\n",
      "         7  1921710059.3610            1.39s\n",
      "         8  1707270125.2779            1.40s\n",
      "         9  1532867905.2093            1.42s\n",
      "        10  1367589511.3542            1.46s\n",
      "        20   576416112.7990            1.27s\n",
      "        30   357225164.1920            1.05s\n",
      "        40   270644752.5639            0.88s\n",
      "        50   227340453.3687            0.73s\n",
      "        60   200145547.3212            0.59s\n",
      "        70   181893919.2660            0.43s\n",
      "        80   167413057.4446            0.29s\n",
      "        90   155148959.8855            0.14s\n",
      "       100   144148527.3198            0.00s\n"
     ]
    },
    {
     "data": {
      "text/plain": [
       "GradientBoostingRegressor(verbose=1)"
      ]
     },
     "execution_count": 36,
     "metadata": {},
     "output_type": "execute_result"
    }
   ],
   "source": [
    "gbm.fit(features_train,labels_train)"
   ]
  },
  {
   "cell_type": "code",
   "execution_count": 37,
   "id": "9a418235",
   "metadata": {},
   "outputs": [
    {
     "name": "stdout",
     "output_type": "stream",
     "text": [
      "The train R^2 is 0.971\n"
     ]
    }
   ],
   "source": [
    "print('The train R^2 is %.3f' %(gbm.score(features_train,labels_train)))"
   ]
  },
  {
   "cell_type": "code",
   "execution_count": 38,
   "id": "4d7742e9",
   "metadata": {},
   "outputs": [
    {
     "name": "stdout",
     "output_type": "stream",
     "text": [
      "The test R^2 is 0.925\n"
     ]
    }
   ],
   "source": [
    "print('The test R^2 is %.3f' %(gbm.score(features_test,labels_test)))"
   ]
  },
  {
   "cell_type": "code",
   "execution_count": 39,
   "id": "55c592c1",
   "metadata": {},
   "outputs": [],
   "source": [
    "from sklearn.metrics import mean_squared_error"
   ]
  },
  {
   "cell_type": "code",
   "execution_count": 40,
   "id": "e3dbe937",
   "metadata": {},
   "outputs": [],
   "source": [
    "def tune_gbm(learning_rate, max_depth):\n",
    "    gbm = GradientBoostingRegressor(\n",
    "        learning_rate=learning_rate, n_estimators=10000, max_depth=max_depth)\n",
    "    gbm.fit(features_train,labels_train)\n",
    "    \n",
    "    return gbm\n",
    "\n",
    "\n",
    "def demo_gbm_tuning(model, start=0, end=10000, training_curve=True):\n",
    "    gen_train = model.staged_predict(features_train)\n",
    "    gen_test  = model.staged_predict(features_test)\n",
    "\n",
    "    trainMSE = []\n",
    "    testMSE  = []\n",
    "    steps   = range(1,10001)\n",
    "    for n in steps:\n",
    "        y_pred_train = next(gen_train)\n",
    "        y_pred_test  = next(gen_test)\n",
    "        trainMSE.append(mean_squared_error(y_pred_train, labels_train))\n",
    "        testMSE.append(mean_squared_error(y_pred_test, labels_test))\n",
    "    \n",
    "    print(\"The best test score is {:.2f} at the step {}\".format(\n",
    "        min(testMSE), np.argmin(testMSE)+1))\n",
    "    print('-'*50)\n",
    "    plt.plot(range(start, end), testMSE[start:end])\n",
    "    if training_curve:\n",
    "        plt.plot(range(start, end), trainMSE[start:end])"
   ]
  },
  {
   "cell_type": "code",
   "execution_count": 41,
   "id": "cf597bce",
   "metadata": {},
   "outputs": [],
   "source": [
    "learning_rate=0.001\n",
    "max_depth=4\n",
    "\n",
    "model1 = tune_gbm(learning_rate, max_depth)"
   ]
  },
  {
   "cell_type": "code",
   "execution_count": 42,
   "id": "59b62663",
   "metadata": {},
   "outputs": [
    {
     "name": "stdout",
     "output_type": "stream",
     "text": [
      "The best test score is 375333952.59 at the step 9996\n",
      "--------------------------------------------------\n"
     ]
    },
    {
     "data": {
      "image/png": "[encoded data removed]",
      "text/plain": [
       "<Figure size 432x288 with 1 Axes>"
      ]
     },
     "metadata": {},
     "output_type": "display_data"
    }
   ],
   "source": [
    "start = 0\n",
    "end = 10000 # You may change start and end to zoom in\n",
    "\n",
    "demo_gbm_tuning(model1, start, end)"
   ]
  },
  {
   "cell_type": "code",
   "execution_count": 43,
   "id": "eb02ec56",
   "metadata": {},
   "outputs": [
    {
     "name": "stdout",
     "output_type": "stream",
     "text": [
      "      Iter       Train Loss   Remaining Time \n",
      "         1  1326192920.1633            1.72m\n",
      "         2   891473556.5053            1.42m\n",
      "         3   764357265.7893            1.22m\n",
      "         4   661411420.6007            1.13m\n",
      "         5   588849663.2858            1.07m\n",
      "         6   549412359.1703            1.04m\n",
      "         7   505095143.0895            1.00m\n",
      "         8   461203611.6392           59.89s\n",
      "         9   425863787.9017           58.61s\n",
      "        10   399234432.8778           57.42s\n",
      "        20   252684448.0178           50.60s\n",
      "        30   182050179.0708           45.49s\n",
      "        40   147343683.3690           43.47s\n",
      "        50   115071950.3237           41.49s\n",
      "        60    95600353.3649           40.22s\n",
      "        70    74451582.5715           40.29s\n",
      "        80    62878613.3541           41.22s\n",
      "        90    52863925.9796           41.52s\n",
      "       100    43252104.0864           40.82s\n",
      "       200     8964975.5127           37.31s\n",
      "       300     1736839.9104           35.98s\n",
      "       400      345290.8550           35.67s\n",
      "       500       72630.7311           33.65s\n",
      "       600       14622.0680           31.89s\n",
      "       700        2989.9285           30.39s\n",
      "       800         598.4019           29.09s\n",
      "       900         118.4449           27.70s\n",
      "      1000          25.7439           26.32s\n",
      "      2000           0.0000           13.10s\n",
      "      3000           0.0000            0.00s\n"
     ]
    }
   ],
   "source": [
    "from sklearn.metrics import r2_score \n",
    "n_estimators = 3000\n",
    "steps = range(100, 3000, 1000)\n",
    "\n",
    "gbm.set_params(learning_rate = 1, n_estimators=n_estimators, max_depth=3)\n",
    "gbm.fit(features_train, labels_train)\n",
    "gen = gbm.staged_predict(features_train)\n",
    "r2_rate1 = []\n",
    "for n in range(n_estimators):\n",
    "           predicted_targets = next(gen)\n",
    "           if n not in steps: continue\n",
    "           r2_rate1.append(r2_score(labels_train, predicted_targets))  "
   ]
  },
  {
   "cell_type": "code",
   "execution_count": 44,
   "id": "8113205d",
   "metadata": {},
   "outputs": [
    {
     "name": "stdout",
     "output_type": "stream",
     "text": [
      "      Iter       Train Loss   Remaining Time \n",
      "         1  4297802070.6113           47.37s\n",
      "         2  3705255341.9370           46.16s\n",
      "         3  3217910822.1720           43.25s\n",
      "         4  2812695410.0985           41.71s\n",
      "         5  2463275490.7506           41.33s\n",
      "         6  2168339061.2339           42.06s\n",
      "         7  1921710059.3610           41.43s\n",
      "         8  1707270125.2779           40.72s\n",
      "         9  1532867905.2093           40.55s\n",
      "        10  1367589511.3542           40.35s\n",
      "        20   576416112.7990           39.18s\n",
      "        30   357225164.1920           41.62s\n",
      "        40   270644752.5639           41.34s\n",
      "        50   227340453.3687           40.44s\n",
      "        60   200145547.3212           40.44s\n",
      "        70   181893919.2660           39.62s\n",
      "        80   167413057.4446           39.07s\n",
      "        90   155148959.8855           38.54s\n",
      "       100   144148527.3198           38.09s\n",
      "       200    90201190.5261           35.07s\n",
      "       300    66716411.3560           33.44s\n",
      "       400    52022313.5167           32.89s\n",
      "       500    41341783.9995           32.76s\n",
      "       600    32615750.3948           32.61s\n",
      "       700    26168110.7119           31.76s\n",
      "       800    21193868.4931           30.07s\n",
      "       900    17359323.4617           28.58s\n",
      "      1000    14150811.0587           26.86s\n",
      "      2000     2284526.2300           12.92s\n",
      "      3000      460039.9218            0.00s\n"
     ]
    }
   ],
   "source": [
    "gbm.set_params(learning_rate = 0.1)\n",
    "gbm.fit(features_train, labels_train)\n",
    "gen = gbm.staged_predict(features_train)\n",
    "r2_rate01 = []\n",
    "for n in range(n_estimators):\n",
    "           predicted_targets = next(gen)\n",
    "           if n not in steps: continue\n",
    "           r2_rate01.append(r2_score(labels_train, predicted_targets)) "
   ]
  },
  {
   "cell_type": "code",
   "execution_count": 45,
   "id": "090902dc",
   "metadata": {},
   "outputs": [
    {
     "name": "stdout",
     "output_type": "stream",
     "text": [
      "      Iter       Train Loss   Remaining Time \n",
      "         1  4921839992.2054           54.62s\n",
      "         2  4850261946.4677           56.70s\n",
      "         3  4780107906.7830           51.37s\n",
      "         4  4709956238.0874           48.00s\n",
      "         5  4642355502.0494           48.79s\n",
      "         6  4574751302.0100           47.06s\n",
      "         7  4508378028.9229           45.49s\n",
      "         8  4444348415.9771           44.44s\n",
      "         9  4380386843.6025           43.56s\n",
      "        10  4317553934.2484           42.93s\n",
      "        20  3751625952.9214           39.67s\n",
      "        30  3278334318.4612           37.99s\n",
      "        40  2875175366.2700           37.28s\n",
      "        50  2532867070.1847           36.63s\n",
      "        60  2239024136.6821           36.35s\n",
      "        70  1989881777.1264           35.98s\n",
      "        80  1777315717.6195           35.78s\n",
      "        90  1589453248.7509           35.51s\n",
      "       100  1422907734.8378           35.36s\n",
      "       200   597265135.6568           34.64s\n",
      "       300   362103478.9819           34.35s\n",
      "       400   271257822.0969           32.71s\n",
      "       500   224652531.2621           32.05s\n",
      "       600   196904869.5438           31.42s\n",
      "       700   178467339.5455           29.88s\n",
      "       800   164079514.8420           28.28s\n",
      "       900   153458363.5696           26.87s\n",
      "      1000   144663151.2171           25.39s\n",
      "      2000    92024722.7681           12.41s\n",
      "      3000    70282525.4769            0.00s\n"
     ]
    }
   ],
   "source": [
    "gbm.set_params(learning_rate = 0.01)\n",
    "gbm.fit(features_train, labels_train)\n",
    "gen = gbm.staged_predict(features_train)\n",
    "r2_rate001 = []\n",
    "for n in range(n_estimators):\n",
    "           predicted_targets = next(gen)\n",
    "           if n not in steps: continue\n",
    "           r2_rate001.append(r2_score(labels_train, predicted_targets))"
   ]
  },
  {
   "cell_type": "code",
   "execution_count": 46,
   "id": "e286ae5f",
   "metadata": {},
   "outputs": [
    {
     "data": {
      "text/plain": [
       "<matplotlib.legend.Legend at 0x7fd22e147e80>"
      ]
     },
     "execution_count": 46,
     "metadata": {},
     "output_type": "execute_result"
    },
    {
     "data": {
      "image/png": "[encoded data removed]",
      "text/plain": [
       "<Figure size 432x288 with 1 Axes>"
      ]
     },
     "metadata": {},
     "output_type": "display_data"
    }
   ],
   "source": [
    "plt.plot(steps, r2_rate1,  label=r'R^2 curve for learning_rate = 1')\n",
    "plt.plot(steps, r2_rate01, label=r'R^2 curve for learning_rate = 0.1')\n",
    "plt.plot(steps, r2_rate001, label=r'R^2 curve for learning_rate = 0.01')\n",
    "plt.legend(loc=4)"
   ]
  },
  {
   "cell_type": "code",
   "execution_count": 47,
   "id": "ca97df78",
   "metadata": {},
   "outputs": [
    {
     "name": "stdout",
     "output_type": "stream",
     "text": [
      "      Iter       Train Loss   Remaining Time \n",
      "         1  4170528837.8081            1.95m\n",
      "         2  3496077804.6858            2.20m\n",
      "         3  2939768091.3267            2.32m\n",
      "         4  2480751561.2168            2.14m\n",
      "         5  2100008552.7685            1.97m\n",
      "         6  1788111110.0370            1.92m\n",
      "         7  1527990999.3573            1.91m\n",
      "         8  1311928738.3096            1.85m\n",
      "         9  1127199387.4899            1.89m\n",
      "        10   974735957.5198            1.81m\n",
      "        20   308161824.5468            1.43m\n",
      "        30   153051315.0155            1.32m\n",
      "        40   103628630.9072            1.28m\n",
      "        50    81921689.9868            1.22m\n",
      "        60    67895948.6073            1.22m\n",
      "        70    59114471.0917            1.22m\n",
      "        80    52558587.2274            1.21m\n",
      "        90    47512043.0882            1.23m\n",
      "       100    43517345.5388            1.26m\n",
      "       200    22415689.9158            1.09m\n",
      "       300    11422462.7065            1.02m\n",
      "       400     5926076.0769           57.91s\n",
      "       500     2917840.2849           54.92s\n",
      "       600     1572832.3963           51.80s\n",
      "       700      864092.4431           48.86s\n",
      "       800      476112.4338           46.16s\n",
      "       900      272801.2634           43.86s\n",
      "      1000      153962.1382           41.46s\n",
      "      2000         595.4966           20.72s\n",
      "      3000           2.2429            0.00s\n"
     ]
    }
   ],
   "source": [
    "gbm.set_params(learning_rate = 0.1, max_depth = 5)\n",
    "    \n",
    "gbm.fit(features_train, labels_train)\n",
    "gen = gbm.staged_predict(features_train)\n",
    "r2_maxdepth5 = []\n",
    "for n in range(n_estimators):\n",
    "           predicted_targets = next(gen)\n",
    "           if n not in steps: continue\n",
    "           r2_maxdepth5.append(r2_score(labels_train, predicted_targets))     "
   ]
  },
  {
   "cell_type": "code",
   "execution_count": 48,
   "id": "ce0b78b9",
   "metadata": {},
   "outputs": [
    {
     "name": "stdout",
     "output_type": "stream",
     "text": [
      "      Iter       Train Loss   Remaining Time \n",
      "         1  4059463829.1032            2.46m\n",
      "         2  3301142105.5904            2.22m\n",
      "         3  2685574215.3418            2.18m\n",
      "         4  2185201792.7649            2.29m\n",
      "         5  1778313885.1212            2.41m\n",
      "         6  1449415094.7082            2.47m\n",
      "         7  1180883165.4830            2.46m\n",
      "         8   961762067.0047            2.42m\n",
      "         9   784649905.4979            2.39m\n",
      "        10   639890079.9538            2.39m\n",
      "        20    86436508.6366            2.25m\n",
      "        30    13195815.3250            2.14m\n",
      "        40     2598440.9767            2.10m\n",
      "        50      762153.7116            2.12m\n",
      "        60      329777.6868            2.16m\n",
      "        70      178325.0056            2.12m\n",
      "        80       99196.6190            2.07m\n",
      "        90       60099.5621            2.04m\n",
      "       100       37885.5979            2.02m\n",
      "       200        2242.4235            1.85m\n",
      "       300         152.5621            1.78m\n",
      "       400           9.5888            1.73m\n",
      "       500           0.5926            1.66m\n",
      "       600           0.0411            1.58m\n",
      "       700           0.0029            1.51m\n",
      "       800           0.0002            1.44m\n",
      "       900           0.0000            1.38m\n",
      "      1000           0.0000            1.32m\n",
      "      2000           0.0000           39.96s\n",
      "      3000           0.0000            0.00s\n"
     ]
    }
   ],
   "source": [
    "gbm.set_params(learning_rate = 0.1, max_depth = 10)\n",
    "    \n",
    "gbm.fit(features_train, labels_train)\n",
    "gen = gbm.staged_predict(features_train)\n",
    "r2_maxdepth10 = []\n",
    "for n in range(n_estimators):\n",
    "           predicted_targets = next(gen)\n",
    "           if n not in steps: continue\n",
    "           r2_maxdepth10.append(r2_score(labels_train, predicted_targets)) "
   ]
  },
  {
   "cell_type": "code",
   "execution_count": 49,
   "id": "3af3efd7",
   "metadata": {},
   "outputs": [
    {
     "data": {
      "text/plain": [
       "<matplotlib.legend.Legend at 0x7fd22ddbd580>"
      ]
     },
     "execution_count": 49,
     "metadata": {},
     "output_type": "execute_result"
    },
    {
     "data": {
      "image/png": "[encoded data removed]",
      "text/plain": [
       "<Figure size 432x288 with 1 Axes>"
      ]
     },
     "metadata": {},
     "output_type": "display_data"
    }
   ],
   "source": [
    "plt.plot(steps, r2_rate01, label='max_depth = 3')\n",
    "plt.plot(steps, r2_maxdepth5, label='max_depth = 5')\n",
    "plt.plot(steps, r2_maxdepth10, label='max_depth = 10')\n",
    "plt.title('$R^2$ curves with different depths')\n",
    "plt.legend(loc=4)"
   ]
  },
  {
   "cell_type": "code",
   "execution_count": 55,
   "id": "072ad462",
   "metadata": {},
   "outputs": [],
   "source": [
    "from sklearn.model_selection import GridSearchCV"
   ]
  },
  {
   "cell_type": "code",
   "execution_count": 104,
   "id": "415856e1",
   "metadata": {},
   "outputs": [
    {
     "name": "stdout",
     "output_type": "stream",
     "text": [
      "Model Performance\n",
      "Average Error: 12760.3127 $.\n",
      "Accuracy = 92.42%.\n"
     ]
    }
   ],
   "source": [
    "def evaluate(model, features_test, labels_test):\n",
    "    predictions = model.predict(features_test)\n",
    "    errors = abs(predictions - labels_test)\n",
    "    mape = 100 * np.mean(errors / labels_test)\n",
    "    accuracy = 100 - mape\n",
    "    print('Model Performance')\n",
    "    print('Average Error: {:0.4f} $.'.format(np.mean(errors)))\n",
    "    print('Accuracy = {:0.2f}%.'.format(accuracy))\n",
    "    \n",
    "    return accuracy\n",
    "\n",
    "base_model = GradientBoostingRegressor(random_state = 42)\n",
    "base_model.fit(features_train, labels_train)\n",
    "base_accuracy = evaluate(base_model, features_test, labels_test)"
   ]
  },
  {
   "cell_type": "code",
   "execution_count": 109,
   "id": "d9c526f4",
   "metadata": {},
   "outputs": [],
   "source": [
    "# Create the parameter grid  \n",
    "param_grid = {\n",
    "    'learning_rate' : [0.05,0.1,0.15],\n",
    "    'max_depth' : [5,7,9],\n",
    "    'n_estimators' : [10,30,60,100],\n",
    "    'min_samples_split' : [100, 150, 200],\n",
    "    'min_samples_leaf' : [10,20,30]\n",
    "}\n",
    "\n",
    "grid_search = GridSearchCV(estimator = GradientBoostingRegressor(subsample=0.8,random_state=10), \n",
    "param_grid = param_grid,n_jobs=4, cv=5)                                                "
   ]
  },
  {
   "cell_type": "code",
   "execution_count": 110,
   "id": "5c513cf8",
   "metadata": {},
   "outputs": [
    {
     "data": {
      "text/plain": [
       "{'learning_rate': 0.1,\n",
       " 'max_depth': 9,\n",
       " 'min_samples_leaf': 10,\n",
       " 'min_samples_split': 150,\n",
       " 'n_estimators': 100}"
      ]
     },
     "execution_count": 110,
     "metadata": {},
     "output_type": "execute_result"
    }
   ],
   "source": [
    "grid_search.fit(features_train, labels_train)\n",
    "grid_search.best_params_"
   ]
  },
  {
   "cell_type": "code",
   "execution_count": 111,
   "id": "4172aa6d",
   "metadata": {},
   "outputs": [
    {
     "name": "stdout",
     "output_type": "stream",
     "text": [
      "Model Performance\n",
      "Average Error: 12410.8714 $.\n",
      "Accuracy = 92.70%.\n",
      "Improvement of 0.31%.\n"
     ]
    }
   ],
   "source": [
    "best_grid = grid_search.best_estimator_\n",
    "grid_accuracy = evaluate(best_grid, features_test, labels_test)\n",
    "print('Improvement of {:0.2f}%.'.format( 100 * (grid_accuracy - base_accuracy) / base_accuracy))"
   ]
  },
  {
   "cell_type": "code",
   "execution_count": 115,
   "id": "67da23c0",
   "metadata": {},
   "outputs": [],
   "source": [
    "# Create the parameter grid  \n",
    "param_grid1 = {\n",
    "    'learning_rate' : [0.09,0.1,0.11],\n",
    "    'max_depth' : [9,10,11],\n",
    "    'n_estimators' : [100,110,120,130],\n",
    "    'min_samples_split' : [140, 150, 160],\n",
    "    'min_samples_leaf' : [8,9,10]\n",
    "}\n",
    "\n",
    "grid_search = GridSearchCV(estimator = GradientBoostingRegressor(subsample=0.8,random_state=10), \n",
    "param_grid = param_grid1 ,n_jobs=4, cv=5)                                                "
   ]
  },
  {
   "cell_type": "code",
   "execution_count": 116,
   "id": "39525a69",
   "metadata": {},
   "outputs": [
    {
     "data": {
      "text/plain": [
       "{'learning_rate': 0.1,\n",
       " 'max_depth': 10,\n",
       " 'min_samples_leaf': 8,\n",
       " 'min_samples_split': 150,\n",
       " 'n_estimators': 130}"
      ]
     },
     "execution_count": 116,
     "metadata": {},
     "output_type": "execute_result"
    }
   ],
   "source": [
    "grid_search.fit(features_train, labels_train)\n",
    "grid_search.best_params_"
   ]
  },
  {
   "cell_type": "code",
   "execution_count": 117,
   "id": "01036155",
   "metadata": {},
   "outputs": [
    {
     "name": "stdout",
     "output_type": "stream",
     "text": [
      "Model Performance\n",
      "Average Error: 11860.8752 $.\n",
      "Accuracy = 93.05%.\n",
      "Improvement of 0.68%.\n"
     ]
    }
   ],
   "source": [
    "best_grid = grid_search.best_estimator_\n",
    "grid_accuracy = evaluate(best_grid, features_test, labels_test)\n",
    "print('Improvement of {:0.2f}%.'.format( 100 * (grid_accuracy - base_accuracy) / base_accuracy))"
   ]
  },
  {
   "cell_type": "code",
   "execution_count": 118,
   "id": "697c1b6d",
   "metadata": {},
   "outputs": [],
   "source": [
    "# Create the parameter grid  \n",
    "param_grid2 = {\n",
    "    'learning_rate' : [0.09,0.1,0.11],\n",
    "    'max_depth' : [9,10,11],\n",
    "    'n_estimators' : [100,110,120,130],\n",
    "    'min_samples_split' : [145, 150, 155],\n",
    "    'min_samples_leaf' : [8,7,6]\n",
    "}\n",
    "\n",
    "grid_search = GridSearchCV(estimator = GradientBoostingRegressor(subsample=0.8,random_state=10), \n",
    "param_grid = param_grid2 ,n_jobs=4, cv=5)                                                "
   ]
  },
  {
   "cell_type": "code",
   "execution_count": 119,
   "id": "9bd8099e",
   "metadata": {},
   "outputs": [
    {
     "data": {
      "text/plain": [
       "{'learning_rate': 0.1,\n",
       " 'max_depth': 9,\n",
       " 'min_samples_leaf': 6,\n",
       " 'min_samples_split': 155,\n",
       " 'n_estimators': 130}"
      ]
     },
     "execution_count": 119,
     "metadata": {},
     "output_type": "execute_result"
    }
   ],
   "source": [
    "grid_search.fit(features_train, labels_train)\n",
    "grid_search.best_params_"
   ]
  },
  {
   "cell_type": "code",
   "execution_count": 120,
   "id": "47db00c0",
   "metadata": {},
   "outputs": [
    {
     "name": "stdout",
     "output_type": "stream",
     "text": [
      "Model Performance\n",
      "Average Error: 11913.8948 $.\n",
      "Accuracy = 93.00%.\n",
      "Improvement of 0.63%.\n"
     ]
    }
   ],
   "source": [
    "best_grid = grid_search.best_estimator_\n",
    "grid_accuracy = evaluate(best_grid, features_test, labels_test)\n",
    "print('Improvement of {:0.2f}%.'.format( 100 * (grid_accuracy - base_accuracy) / base_accuracy))"
   ]
  }
 ],
 "metadata": {
  "kernelspec": {
   "display_name": "Python 3",
   "language": "python",
   "name": "python3"
  },
  "language_info": {
   "codemirror_mode": {
    "name": "ipython",
    "version": 3
   },
   "file_extension": ".py",
   "mimetype": "text/x-python",
   "name": "python",
   "nbconvert_exporter": "python",
   "pygments_lexer": "ipython3",
   "version": "3.8.8"
  }
 },
 "nbformat": 4,
 "nbformat_minor": 5
}
