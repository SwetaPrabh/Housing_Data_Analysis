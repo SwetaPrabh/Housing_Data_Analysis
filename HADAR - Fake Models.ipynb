{
 "cells": [
  {
   "cell_type": "markdown",
   "id": "a356198e",
   "metadata": {},
   "source": [
    "# Machine Learning with Pipelines\n",
    "### (Incomplete)\n",
    "### Train, tune, and pickle models using Sweta's cleaned dataset\n",
    "**Each pipeline will:**\n",
    "- Standardize data with MinMax (vs standardscaler to accomodate binary dummy variables) \n",
    "- Select features with RFECV (recursive feature elimination with cross-validation)\n",
    "- Tune hyperparameters with GridSearchCV\n",
    "\n",
    "**Additional:**\n",
    "- Evaluate performance\n",
    "- Pickle\n",
    "- Ensemble for flask predictor tool"
   ]
  },
  {
   "cell_type": "code",
   "execution_count": 1,
   "id": "491cf9e5",
   "metadata": {},
   "outputs": [],
   "source": [
    "import numpy as np\n",
    "import pandas as pd\n",
    "from sklearn.pipeline import make_pipeline\n",
    "from sklearn.preprocessing import MinMaxScaler, StandardScaler\n",
    "from sklearn.model_selection import train_test_split, GridSearchCV, KFold\n",
    "from sklearn.feature_selection import RFECV\n",
    "from sklearn.linear_model import LinearRegression, HuberRegressor, BayesianRidge\n",
    "from sklearn.ensemble import RandomForestRegressor, GradientBoostingRegressor\n",
    "from sklearn.svm import SVR\n",
    "from sklearn.metrics import mean_absolute_error, r2_score\n",
    "import pickle"
   ]
  },
  {
   "cell_type": "markdown",
   "id": "2da0d469",
   "metadata": {},
   "source": [
    "#### Pickle Code"
   ]
  },
  {
   "cell_type": "code",
   "execution_count": 2,
   "id": "49d2996d",
   "metadata": {},
   "outputs": [],
   "source": [
    "# # save the model to disk\n",
    "# filename = 'finalized_model.sav'\n",
    "# pickle.dump(model, open(filename, 'wb'))\n",
    " \n",
    "# # some time later...\n",
    " \n",
    "# # load the model from disk\n",
    "# loaded_model = pickle.load(open(filename, 'rb'))\n",
    "# result = loaded_model.score(X_test, Y_test)\n",
    "# print(result)"
   ]
  },
  {
   "cell_type": "markdown",
   "id": "cd69d259",
   "metadata": {},
   "source": [
    "### Load Dummified Data"
   ]
  },
  {
   "cell_type": "code",
   "execution_count": 3,
   "id": "d6806054",
   "metadata": {},
   "outputs": [],
   "source": [
    "train = pd.read_csv('dummi data/train_final.csv')\n",
    "test = pd.read_csv('dummi data/test_final.csv')\n",
    "# test[test.isna().any(axis=1)]\n",
    "test = test.dropna(axis=0)"
   ]
  },
  {
   "cell_type": "code",
   "execution_count": 4,
   "id": "8d78e984",
   "metadata": {},
   "outputs": [],
   "source": [
    "X_train = train.drop(columns=['SalePrice', 'PID', 'Unnamed: 0'])\n",
    "y_train = train['SalePrice']\n",
    "X_test = test.drop(columns=['SalePrice', 'PID', 'Unnamed: 0'])\n",
    "y_test = test['SalePrice']"
   ]
  },
  {
   "cell_type": "markdown",
   "id": "794cd925",
   "metadata": {},
   "source": [
    "### Feature Selection"
   ]
  },
  {
   "cell_type": "code",
   "execution_count": 5,
   "id": "38ab1e1a",
   "metadata": {},
   "outputs": [
    {
     "data": {
      "text/plain": [
       "{'alpha': 98.01}"
      ]
     },
     "execution_count": 5,
     "metadata": {},
     "output_type": "execute_result"
    }
   ],
   "source": [
    "Lasso GridSearchCV\n",
    "search = GridSearchCV(Lasso(random_state=0, tol=.1), \n",
    "                      {'alpha': np.arange(0.01,1000,1)},\n",
    "                     cv=5,\n",
    "        scoring='neg_mean_squared_error'\n",
    "                     )\n",
    "search.fit(X_train, y_train)\n",
    "search.best_params_\n",
    "\n",
    "pickle.dump(search, open('FS_LassoGridSearch.sav', 'wb'))\n",
    "search = pickle.load(open('FS_LassoGridSearch.sav', 'rb'))\n",
    "search.best_params_"
   ]
  },
  {
   "cell_type": "code",
   "execution_count": 6,
   "id": "68ef06c6",
   "metadata": {},
   "outputs": [
    {
     "data": {
      "text/html": [
       "<div>\n",
       "<style scoped>\n",
       "    .dataframe tbody tr th:only-of-type {\n",
       "        vertical-align: middle;\n",
       "    }\n",
       "\n",
       "    .dataframe tbody tr th {\n",
       "        vertical-align: top;\n",
       "    }\n",
       "\n",
       "    .dataframe thead th {\n",
       "        text-align: right;\n",
       "    }\n",
       "</style>\n",
       "<table border=\"1\" class=\"dataframe\">\n",
       "  <thead>\n",
       "    <tr style=\"text-align: right;\">\n",
       "      <th></th>\n",
       "      <th>GrLivArea</th>\n",
       "      <th>MSSubClass</th>\n",
       "      <th>LotArea</th>\n",
       "      <th>OverallQual</th>\n",
       "      <th>OverallCond</th>\n",
       "      <th>YearBuilt</th>\n",
       "      <th>YearRemodAdd</th>\n",
       "      <th>BsmtFinSF1</th>\n",
       "      <th>BsmtFinSF2</th>\n",
       "      <th>BsmtUnfSF</th>\n",
       "      <th>...</th>\n",
       "      <th>SaleType_COD</th>\n",
       "      <th>SaleType_CWD</th>\n",
       "      <th>SaleType_Con</th>\n",
       "      <th>SaleType_ConLD</th>\n",
       "      <th>SaleType_ConLI</th>\n",
       "      <th>SaleType_ConLw</th>\n",
       "      <th>SaleType_Oth</th>\n",
       "      <th>SaleType_VWD</th>\n",
       "      <th>SaleType_WD</th>\n",
       "      <th>SaleCondition_Normal</th>\n",
       "    </tr>\n",
       "  </thead>\n",
       "  <tbody>\n",
       "    <tr>\n",
       "      <th>0</th>\n",
       "      <td>856</td>\n",
       "      <td>30</td>\n",
       "      <td>7890</td>\n",
       "      <td>6</td>\n",
       "      <td>6</td>\n",
       "      <td>1939</td>\n",
       "      <td>1950</td>\n",
       "      <td>238.0</td>\n",
       "      <td>0.0</td>\n",
       "      <td>618.0</td>\n",
       "      <td>...</td>\n",
       "      <td>0</td>\n",
       "      <td>0</td>\n",
       "      <td>0</td>\n",
       "      <td>0</td>\n",
       "      <td>0</td>\n",
       "      <td>0</td>\n",
       "      <td>0</td>\n",
       "      <td>0</td>\n",
       "      <td>1</td>\n",
       "      <td>1</td>\n",
       "    </tr>\n",
       "    <tr>\n",
       "      <th>1</th>\n",
       "      <td>1039</td>\n",
       "      <td>70</td>\n",
       "      <td>8146</td>\n",
       "      <td>4</td>\n",
       "      <td>8</td>\n",
       "      <td>1900</td>\n",
       "      <td>2003</td>\n",
       "      <td>0.0</td>\n",
       "      <td>0.0</td>\n",
       "      <td>405.0</td>\n",
       "      <td>...</td>\n",
       "      <td>0</td>\n",
       "      <td>0</td>\n",
       "      <td>0</td>\n",
       "      <td>0</td>\n",
       "      <td>0</td>\n",
       "      <td>0</td>\n",
       "      <td>0</td>\n",
       "      <td>0</td>\n",
       "      <td>1</td>\n",
       "      <td>1</td>\n",
       "    </tr>\n",
       "    <tr>\n",
       "      <th>2</th>\n",
       "      <td>1665</td>\n",
       "      <td>60</td>\n",
       "      <td>8400</td>\n",
       "      <td>8</td>\n",
       "      <td>6</td>\n",
       "      <td>2001</td>\n",
       "      <td>2001</td>\n",
       "      <td>643.0</td>\n",
       "      <td>0.0</td>\n",
       "      <td>167.0</td>\n",
       "      <td>...</td>\n",
       "      <td>0</td>\n",
       "      <td>0</td>\n",
       "      <td>0</td>\n",
       "      <td>0</td>\n",
       "      <td>0</td>\n",
       "      <td>0</td>\n",
       "      <td>0</td>\n",
       "      <td>0</td>\n",
       "      <td>1</td>\n",
       "      <td>1</td>\n",
       "    </tr>\n",
       "    <tr>\n",
       "      <th>3</th>\n",
       "      <td>1922</td>\n",
       "      <td>85</td>\n",
       "      <td>7301</td>\n",
       "      <td>7</td>\n",
       "      <td>5</td>\n",
       "      <td>2003</td>\n",
       "      <td>2003</td>\n",
       "      <td>0.0</td>\n",
       "      <td>0.0</td>\n",
       "      <td>0.0</td>\n",
       "      <td>...</td>\n",
       "      <td>0</td>\n",
       "      <td>0</td>\n",
       "      <td>0</td>\n",
       "      <td>1</td>\n",
       "      <td>0</td>\n",
       "      <td>0</td>\n",
       "      <td>0</td>\n",
       "      <td>0</td>\n",
       "      <td>0</td>\n",
       "      <td>1</td>\n",
       "    </tr>\n",
       "    <tr>\n",
       "      <th>4</th>\n",
       "      <td>936</td>\n",
       "      <td>20</td>\n",
       "      <td>6000</td>\n",
       "      <td>4</td>\n",
       "      <td>4</td>\n",
       "      <td>1953</td>\n",
       "      <td>1953</td>\n",
       "      <td>0.0</td>\n",
       "      <td>0.0</td>\n",
       "      <td>936.0</td>\n",
       "      <td>...</td>\n",
       "      <td>0</td>\n",
       "      <td>0</td>\n",
       "      <td>0</td>\n",
       "      <td>0</td>\n",
       "      <td>0</td>\n",
       "      <td>0</td>\n",
       "      <td>0</td>\n",
       "      <td>0</td>\n",
       "      <td>1</td>\n",
       "      <td>1</td>\n",
       "    </tr>\n",
       "    <tr>\n",
       "      <th>...</th>\n",
       "      <td>...</td>\n",
       "      <td>...</td>\n",
       "      <td>...</td>\n",
       "      <td>...</td>\n",
       "      <td>...</td>\n",
       "      <td>...</td>\n",
       "      <td>...</td>\n",
       "      <td>...</td>\n",
       "      <td>...</td>\n",
       "      <td>...</td>\n",
       "      <td>...</td>\n",
       "      <td>...</td>\n",
       "      <td>...</td>\n",
       "      <td>...</td>\n",
       "      <td>...</td>\n",
       "      <td>...</td>\n",
       "      <td>...</td>\n",
       "      <td>...</td>\n",
       "      <td>...</td>\n",
       "      <td>...</td>\n",
       "      <td>...</td>\n",
       "    </tr>\n",
       "    <tr>\n",
       "      <th>1833</th>\n",
       "      <td>1242</td>\n",
       "      <td>20</td>\n",
       "      <td>17808</td>\n",
       "      <td>4</td>\n",
       "      <td>5</td>\n",
       "      <td>1946</td>\n",
       "      <td>1950</td>\n",
       "      <td>0.0</td>\n",
       "      <td>0.0</td>\n",
       "      <td>484.0</td>\n",
       "      <td>...</td>\n",
       "      <td>0</td>\n",
       "      <td>0</td>\n",
       "      <td>0</td>\n",
       "      <td>0</td>\n",
       "      <td>0</td>\n",
       "      <td>0</td>\n",
       "      <td>0</td>\n",
       "      <td>0</td>\n",
       "      <td>1</td>\n",
       "      <td>1</td>\n",
       "    </tr>\n",
       "    <tr>\n",
       "      <th>1834</th>\n",
       "      <td>816</td>\n",
       "      <td>30</td>\n",
       "      <td>8550</td>\n",
       "      <td>6</td>\n",
       "      <td>8</td>\n",
       "      <td>1934</td>\n",
       "      <td>1950</td>\n",
       "      <td>574.0</td>\n",
       "      <td>0.0</td>\n",
       "      <td>242.0</td>\n",
       "      <td>...</td>\n",
       "      <td>0</td>\n",
       "      <td>0</td>\n",
       "      <td>0</td>\n",
       "      <td>0</td>\n",
       "      <td>0</td>\n",
       "      <td>0</td>\n",
       "      <td>0</td>\n",
       "      <td>0</td>\n",
       "      <td>1</td>\n",
       "      <td>1</td>\n",
       "    </tr>\n",
       "    <tr>\n",
       "      <th>1835</th>\n",
       "      <td>1724</td>\n",
       "      <td>60</td>\n",
       "      <td>7162</td>\n",
       "      <td>7</td>\n",
       "      <td>5</td>\n",
       "      <td>2003</td>\n",
       "      <td>2004</td>\n",
       "      <td>0.0</td>\n",
       "      <td>0.0</td>\n",
       "      <td>796.0</td>\n",
       "      <td>...</td>\n",
       "      <td>0</td>\n",
       "      <td>0</td>\n",
       "      <td>0</td>\n",
       "      <td>0</td>\n",
       "      <td>0</td>\n",
       "      <td>0</td>\n",
       "      <td>0</td>\n",
       "      <td>0</td>\n",
       "      <td>1</td>\n",
       "      <td>1</td>\n",
       "    </tr>\n",
       "    <tr>\n",
       "      <th>1836</th>\n",
       "      <td>1842</td>\n",
       "      <td>60</td>\n",
       "      <td>8826</td>\n",
       "      <td>7</td>\n",
       "      <td>5</td>\n",
       "      <td>2000</td>\n",
       "      <td>2000</td>\n",
       "      <td>841.0</td>\n",
       "      <td>0.0</td>\n",
       "      <td>144.0</td>\n",
       "      <td>...</td>\n",
       "      <td>0</td>\n",
       "      <td>0</td>\n",
       "      <td>0</td>\n",
       "      <td>0</td>\n",
       "      <td>0</td>\n",
       "      <td>0</td>\n",
       "      <td>0</td>\n",
       "      <td>0</td>\n",
       "      <td>1</td>\n",
       "      <td>1</td>\n",
       "    </tr>\n",
       "    <tr>\n",
       "      <th>1837</th>\n",
       "      <td>1911</td>\n",
       "      <td>60</td>\n",
       "      <td>9554</td>\n",
       "      <td>8</td>\n",
       "      <td>5</td>\n",
       "      <td>1993</td>\n",
       "      <td>1994</td>\n",
       "      <td>380.0</td>\n",
       "      <td>0.0</td>\n",
       "      <td>397.0</td>\n",
       "      <td>...</td>\n",
       "      <td>0</td>\n",
       "      <td>0</td>\n",
       "      <td>0</td>\n",
       "      <td>0</td>\n",
       "      <td>0</td>\n",
       "      <td>0</td>\n",
       "      <td>0</td>\n",
       "      <td>0</td>\n",
       "      <td>1</td>\n",
       "      <td>1</td>\n",
       "    </tr>\n",
       "  </tbody>\n",
       "</table>\n",
       "<p>1838 rows × 244 columns</p>\n",
       "</div>"
      ],
      "text/plain": [
       "      GrLivArea  MSSubClass  LotArea  OverallQual  OverallCond  YearBuilt  \\\n",
       "0           856          30     7890            6            6       1939   \n",
       "1          1039          70     8146            4            8       1900   \n",
       "2          1665          60     8400            8            6       2001   \n",
       "3          1922          85     7301            7            5       2003   \n",
       "4           936          20     6000            4            4       1953   \n",
       "...         ...         ...      ...          ...          ...        ...   \n",
       "1833       1242          20    17808            4            5       1946   \n",
       "1834        816          30     8550            6            8       1934   \n",
       "1835       1724          60     7162            7            5       2003   \n",
       "1836       1842          60     8826            7            5       2000   \n",
       "1837       1911          60     9554            8            5       1993   \n",
       "\n",
       "      YearRemodAdd  BsmtFinSF1  BsmtFinSF2  BsmtUnfSF  ...  SaleType_COD  \\\n",
       "0             1950       238.0         0.0      618.0  ...             0   \n",
       "1             2003         0.0         0.0      405.0  ...             0   \n",
       "2             2001       643.0         0.0      167.0  ...             0   \n",
       "3             2003         0.0         0.0        0.0  ...             0   \n",
       "4             1953         0.0         0.0      936.0  ...             0   \n",
       "...            ...         ...         ...        ...  ...           ...   \n",
       "1833          1950         0.0         0.0      484.0  ...             0   \n",
       "1834          1950       574.0         0.0      242.0  ...             0   \n",
       "1835          2004         0.0         0.0      796.0  ...             0   \n",
       "1836          2000       841.0         0.0      144.0  ...             0   \n",
       "1837          1994       380.0         0.0      397.0  ...             0   \n",
       "\n",
       "      SaleType_CWD  SaleType_Con  SaleType_ConLD  SaleType_ConLI  \\\n",
       "0                0             0               0               0   \n",
       "1                0             0               0               0   \n",
       "2                0             0               0               0   \n",
       "3                0             0               1               0   \n",
       "4                0             0               0               0   \n",
       "...            ...           ...             ...             ...   \n",
       "1833             0             0               0               0   \n",
       "1834             0             0               0               0   \n",
       "1835             0             0               0               0   \n",
       "1836             0             0               0               0   \n",
       "1837             0             0               0               0   \n",
       "\n",
       "      SaleType_ConLw  SaleType_Oth  SaleType_VWD  SaleType_WD   \\\n",
       "0                  0             0             0             1   \n",
       "1                  0             0             0             1   \n",
       "2                  0             0             0             1   \n",
       "3                  0             0             0             0   \n",
       "4                  0             0             0             1   \n",
       "...              ...           ...           ...           ...   \n",
       "1833               0             0             0             1   \n",
       "1834               0             0             0             1   \n",
       "1835               0             0             0             1   \n",
       "1836               0             0             0             1   \n",
       "1837               0             0             0             1   \n",
       "\n",
       "      SaleCondition_Normal  \n",
       "0                        1  \n",
       "1                        1  \n",
       "2                        1  \n",
       "3                        1  \n",
       "4                        1  \n",
       "...                    ...  \n",
       "1833                     1  \n",
       "1834                     1  \n",
       "1835                     1  \n",
       "1836                     1  \n",
       "1837                     1  \n",
       "\n",
       "[1838 rows x 244 columns]"
      ]
     },
     "execution_count": 6,
     "metadata": {},
     "output_type": "execute_result"
    }
   ],
   "source": [
    "X_train"
   ]
  },
  {
   "cell_type": "code",
   "execution_count": 9,
   "id": "6d806e3e",
   "metadata": {},
   "outputs": [
    {
     "data": {
      "text/plain": [
       "array(['OverallQual', 'OverallCond', 'BsmtFullBath', 'BedroomAbvGr',\n",
       "       'KitchenAbvGr', 'Fireplaces', 'GarageCars', 'MSZoning_RL',\n",
       "       'LandContour_HLS', 'LotConfig_Corner', 'LotConfig_CulDSac',\n",
       "       'LotConfig_Inside', 'Neighborhood_BrkSide', 'Neighborhood_CollgCr',\n",
       "       'Neighborhood_Crawfor', 'Neighborhood_Edwards',\n",
       "       'Neighborhood_Gilbert', 'Neighborhood_GrnHill',\n",
       "       'Neighborhood_Mitchel', 'Neighborhood_NAmes',\n",
       "       'Neighborhood_NWAmes', 'Neighborhood_NoRidge',\n",
       "       'Neighborhood_NridgHt', 'Neighborhood_SawyerW',\n",
       "       'Neighborhood_StoneBr', 'Neighborhood_Timber', 'Condition1_Norm',\n",
       "       'BldgType_1Fam', 'BldgType_2fmCon', 'BldgType_Duplex',\n",
       "       'BldgType_Twnhs', 'HouseStyle_1.5Fin', 'HouseStyle_1Story',\n",
       "       'HouseStyle_SFoyer', 'HouseStyle_SLvl', 'RoofMatl_CompShg',\n",
       "       'Exterior1st_BrkFace', 'Exterior1st_CemntBd',\n",
       "       'Exterior1st_HdBoard', 'Exterior1st_MetalSd',\n",
       "       'Exterior1st_VinylSd', 'Exterior2nd_Plywood', 'Foundation_BrkTil',\n",
       "       'BsmtQual_Ex', 'BsmtQual_Fa', 'BsmtQual_Gd',\n",
       "       'BsmtQual_No_basement', 'BsmtQual_TA', 'BsmtFinType1_LwQ',\n",
       "       'BsmtFinType1_Rec', 'BsmtFinType1_Unf', 'BsmtFinType2_GLQ',\n",
       "       'BsmtFinType2_LwQ', 'BsmtFinType2_Rec', 'CentralAir_N',\n",
       "       'Electrical_SBrkr', 'Functional_Maj1', 'Functional_Typ',\n",
       "       'GarageType_Attchd', 'GarageType_Detchd', 'GarageType_No_garage',\n",
       "       'GarageFinish_RFn', 'GarageCond_TA', 'PavedDrive_N'], dtype=object)"
      ]
     },
     "execution_count": 9,
     "metadata": {},
     "output_type": "execute_result"
    }
   ],
   "source": [
    "coefficients = search.best_estimator_.coef_\n",
    "importance = np.abs(coefficients)\n",
    "features = X_train.columns\n",
    "keep_feat = np.array(features)[importance > 1000]\n",
    "keep_feat\n",
    "# X_train = X_train[keep_feat].drop(columns='MSSubClass')\n",
    "# X_test = X_test[keep_feat].drop(columns='MSSubClass')"
   ]
  },
  {
   "cell_type": "code",
   "execution_count": null,
   "id": "1efa431c",
   "metadata": {},
   "outputs": [],
   "source": [
    "keep_feat.size"
   ]
  },
  {
   "cell_type": "code",
   "execution_count": null,
   "id": "590c3824",
   "metadata": {},
   "outputs": [],
   "source": [
    "# RFECV and RandomForestRegressor."
   ]
  },
  {
   "cell_type": "code",
   "execution_count": null,
   "id": "7671c3a4",
   "metadata": {},
   "outputs": [],
   "source": [
    "# pickle.dump(rfecv, open('FS_RFECV.sav', 'wb'))"
   ]
  },
  {
   "cell_type": "markdown",
   "id": "67bb3831",
   "metadata": {},
   "source": [
    "### OLS Pipeline\n",
    "- HuberRegressor to mitigate impact of outliers\n",
    "- L2 Regularization"
   ]
  },
  {
   "cell_type": "code",
   "execution_count": null,
   "id": "fca5ac9d",
   "metadata": {},
   "outputs": [],
   "source": [
    "# hb = HuberRegressor(alpha=1)\n",
    "\n",
    "# pipe = make_pipeline(\n",
    "#     # standardize scale\n",
    "# #     MinMaxScaler(), \n",
    "#     HuberRegressor()    \n",
    "#     # feature selection \n",
    "# #     RFECV(hb, cv=4, scoring='accuracy')\n",
    "# )\n",
    "\n",
    "# # hyperparameter tuning\n",
    "# grid_pipe = GridSearchCV(pipe,\n",
    "#         param_grid={\n",
    "#             'alpha': [0.001, 0.01, 0.1, 1, 10, 100, 1000]\n",
    "#         }, cv=4, refit=True\n",
    "#     )\n",
    "\n",
    "# grid_pipe.fit(X_train, y_train)"
   ]
  },
  {
   "cell_type": "code",
   "execution_count": null,
   "id": "edbdbd20",
   "metadata": {},
   "outputs": [],
   "source": [
    "# grid_pipe.best_score_"
   ]
  },
  {
   "cell_type": "code",
   "execution_count": null,
   "id": "370fb3e7",
   "metadata": {},
   "outputs": [],
   "source": [
    "# hb = HuberRegressor()\n",
    "# hb.fit(X_train,y_train)\n",
    "\n",
    "# lm = LinearRegression()\n",
    "# lm.fit(X_train, y_train)"
   ]
  },
  {
   "cell_type": "code",
   "execution_count": null,
   "id": "3c7636f3",
   "metadata": {},
   "outputs": [],
   "source": [
    "ols = make_pipeline(\n",
    "    MinMaxScaler(),\n",
    "    LinearRegression()\n",
    ")\n",
    "\n",
    "ols.fit(X_train, y_train)"
   ]
  },
  {
   "cell_type": "code",
   "execution_count": null,
   "id": "81233292",
   "metadata": {
    "scrolled": true
   },
   "outputs": [],
   "source": [
    "# evaluate model\n",
    "y_pred = ols.predict(X_test)\n",
    "mae = mean_absolute_error(y_test, y_pred)\n",
    "print('mean abs err:', mae)\n",
    "r2 = r2_score(y_test, y_pred)\n",
    "print('r2:', r2)"
   ]
  },
  {
   "cell_type": "code",
   "execution_count": null,
   "id": "17bd3568",
   "metadata": {},
   "outputs": [],
   "source": [
    "pickle.dump(ols, open('models/Linear.sav', 'wb'))"
   ]
  },
  {
   "cell_type": "markdown",
   "id": "b3610925",
   "metadata": {},
   "source": [
    "### Bayesian Ridge Pipeline"
   ]
  },
  {
   "cell_type": "code",
   "execution_count": null,
   "id": "fdfbfb50",
   "metadata": {},
   "outputs": [],
   "source": [
    "br = make_pipeline(\n",
    "    MinMaxScaler(),\n",
    "    BayesianRidge()\n",
    ")\n",
    "\n",
    "br.fit(X_train, y_train)"
   ]
  },
  {
   "cell_type": "code",
   "execution_count": null,
   "id": "a16f8891",
   "metadata": {},
   "outputs": [],
   "source": [
    "# evaluate model\n",
    "y_pred = br.predict(X_test)\n",
    "mae = mean_absolute_error(y_test, y_pred)\n",
    "print('mean abs err:', mae)\n",
    "r2 = r2_score(y_test, y_pred)\n",
    "print('r2:', r2)"
   ]
  },
  {
   "cell_type": "code",
   "execution_count": null,
   "id": "2ac95da8",
   "metadata": {},
   "outputs": [],
   "source": [
    "pickle.dump(br, open('models/BayesianRidge.sav', 'wb'))"
   ]
  },
  {
   "cell_type": "markdown",
   "id": "2a7edd70",
   "metadata": {},
   "source": [
    "### Random Forest Pipeline"
   ]
  },
  {
   "cell_type": "code",
   "execution_count": null,
   "id": "208d0894",
   "metadata": {},
   "outputs": [],
   "source": [
    "rf = make_pipeline(\n",
    "    MinMaxScaler(),\n",
    "    RandomForestRegressor()\n",
    ")\n",
    "\n",
    "rf.fit(X_train, y_train)"
   ]
  },
  {
   "cell_type": "code",
   "execution_count": null,
   "id": "2b70d2ca",
   "metadata": {},
   "outputs": [],
   "source": [
    "# evaluate model\n",
    "y_pred = rf.predict(X_test)\n",
    "mae = mean_absolute_error(y_test, y_pred)\n",
    "print('mean abs err:', mae)\n",
    "r2 = r2_score(y_test, y_pred)\n",
    "print('r2:', r2)"
   ]
  },
  {
   "cell_type": "code",
   "execution_count": null,
   "id": "58286541",
   "metadata": {},
   "outputs": [],
   "source": [
    "pickle.dump(rf, open('models/RandomForest.sav', 'wb'))"
   ]
  },
  {
   "cell_type": "markdown",
   "id": "28acb067",
   "metadata": {},
   "source": [
    "### Gradient Booster Pipeline"
   ]
  },
  {
   "cell_type": "code",
   "execution_count": null,
   "id": "bb044f36",
   "metadata": {},
   "outputs": [],
   "source": [
    "gb = make_pipeline(\n",
    "    MinMaxScaler(),\n",
    "    GradientBoostingRegressor()\n",
    ")\n",
    "\n",
    "gb.fit(X_train, y_train)"
   ]
  },
  {
   "cell_type": "code",
   "execution_count": null,
   "id": "c56b817c",
   "metadata": {},
   "outputs": [],
   "source": [
    "# evaluate model\n",
    "y_pred = gb.predict(X_test)\n",
    "mae = mean_absolute_error(y_test, y_pred)\n",
    "print('mean abs err:', mae)\n",
    "r2 = r2_score(y_test, y_pred)\n",
    "print('r2:', r2)"
   ]
  },
  {
   "cell_type": "code",
   "execution_count": null,
   "id": "d4382208",
   "metadata": {},
   "outputs": [],
   "source": [
    "pickle.dump(gb, open('models/GBooster.sav', 'wb'))"
   ]
  },
  {
   "cell_type": "markdown",
   "id": "3a66d874",
   "metadata": {},
   "source": [
    "### SVM SVR Pipeline (poor performance)"
   ]
  },
  {
   "cell_type": "code",
   "execution_count": null,
   "id": "75c7e001",
   "metadata": {},
   "outputs": [],
   "source": [
    "svr = make_pipeline(\n",
    "    MinMaxScaler(),\n",
    "    SVR()\n",
    ")\n",
    "\n",
    "svr.fit(X_train, y_train)"
   ]
  },
  {
   "cell_type": "code",
   "execution_count": null,
   "id": "4135655e",
   "metadata": {},
   "outputs": [],
   "source": [
    "# evaluate model\n",
    "y_pred = svr.predict(X_test)\n",
    "mae = mean_absolute_error(y_test, y_pred)\n",
    "print('mean abs err:', mae)\n",
    "r2 = r2_score(y_test, y_pred)\n",
    "print('r2:', r2)"
   ]
  },
  {
   "cell_type": "code",
   "execution_count": null,
   "id": "cfcbc719",
   "metadata": {},
   "outputs": [],
   "source": [
    "# pickle.dump(pipe, open('SupportVector.sav', 'wb'))"
   ]
  },
  {
   "cell_type": "markdown",
   "id": "a832e1b8",
   "metadata": {},
   "source": [
    "### Sale Range from all Features"
   ]
  },
  {
   "cell_type": "code",
   "execution_count": null,
   "id": "09305e00",
   "metadata": {},
   "outputs": [],
   "source": [
    "X_test.shape"
   ]
  },
  {
   "cell_type": "code",
   "execution_count": null,
   "id": "fe861d1c",
   "metadata": {},
   "outputs": [],
   "source": [
    "# List1 \n",
    "Name = ['tom', 'krish', 'nick', 'juli'] \n",
    "    \n",
    "# List2 \n",
    "Age = [25, 30, 26, 22] \n",
    "    \n",
    "# get the list of tuples from two lists. \n",
    "# and merge them by using zip(). \n",
    "# list_of_tuples = np.array(list(zip(Name, Age))).T\n",
    "# array = np.array(Age).T\n",
    "# array\n",
    "\n",
    "# Assign data to tuples. \n",
    "# list_of_tuples  \n",
    "  \n",
    "\n",
    "# Converting lists of tuples into \n",
    "# pandas Dataframe. \n",
    "df = pd.DataFrame({'Name':Name,'Age':Age}) \n",
    "     \n",
    "# # Print data. \n",
    "df.pivot_table(columns='Name')"
   ]
  },
  {
   "cell_type": "code",
   "execution_count": null,
   "id": "9e3116eb",
   "metadata": {},
   "outputs": [],
   "source": [
    "pretend_features"
   ]
  },
  {
   "cell_type": "code",
   "execution_count": null,
   "id": "9f2aa9b7",
   "metadata": {
    "scrolled": true
   },
   "outputs": [],
   "source": [
    "def salePrice_range(features):\n",
    "    pred_list = [ols.predict(features), \n",
    "                 br.predict(features), \n",
    "                 rf.predict(features),\n",
    "                 gb.predict(features)]\n",
    "    low = min(pred_list)\n",
    "    low_fmt = '${:,.2f}'.format(low[0])\n",
    "    high = max(pred_list)\n",
    "    high_fmt = '${:,.2f}'.format(high[0])\n",
    "    return print(low_fmt,'-',high_fmt) \n",
    "\n",
    "pretend_features = X_test.sample(1, random_state=20)\n",
    "\n",
    "salePrice_range(pretend_features)"
   ]
  },
  {
   "cell_type": "code",
   "execution_count": null,
   "id": "bbf32190",
   "metadata": {},
   "outputs": [],
   "source": [
    "# save test sample for building of flask app\n",
    "pd.DataFrame(pretend_features).to_csv('sample.csv', index=False)"
   ]
  },
  {
   "cell_type": "code",
   "execution_count": null,
   "id": "f5af6b5f",
   "metadata": {},
   "outputs": [],
   "source": [
    "sample = pd.read_csv('sample.csv')\n",
    "str(ols.predict(sample))"
   ]
  },
  {
   "cell_type": "markdown",
   "id": "2ef43ab1",
   "metadata": {},
   "source": [
    "### Ensemble (incomplete)"
   ]
  },
  {
   "cell_type": "code",
   "execution_count": null,
   "id": "385ca22d",
   "metadata": {},
   "outputs": [],
   "source": [
    "# combine predictions of weak learners ?\n",
    "# x_train = np.column_stack((ols_pred, br_pred, rf_pred, gb_pred))"
   ]
  },
  {
   "cell_type": "code",
   "execution_count": null,
   "id": "efe44e07",
   "metadata": {},
   "outputs": [],
   "source": [
    "# def trainStackModel(x_train, y_train, X_test, n_folds, seed):\n",
    "#     cv = KFold(n_splits=N_folds, random_state=seed)\n",
    "#     gbm = xgb.XGBRegressor(\n",
    "#         n_estimators= 600,\n",
    "#     )"
   ]
  },
  {
   "cell_type": "markdown",
   "id": "d6386ea2",
   "metadata": {},
   "source": [
    "### PCA Pipeline"
   ]
  },
  {
   "cell_type": "code",
   "execution_count": null,
   "id": "41b6f140",
   "metadata": {},
   "outputs": [],
   "source": []
  },
  {
   "cell_type": "markdown",
   "id": "8458568b",
   "metadata": {},
   "source": [
    "### Clustering Pipeline"
   ]
  },
  {
   "cell_type": "code",
   "execution_count": null,
   "id": "d1793c90",
   "metadata": {},
   "outputs": [],
   "source": []
  },
  {
   "cell_type": "markdown",
   "id": "6ef4ed6c",
   "metadata": {},
   "source": [
    "# Sweta model and set sorting"
   ]
  },
  {
   "cell_type": "code",
   "execution_count": null,
   "id": "3b9f7efb",
   "metadata": {},
   "outputs": [],
   "source": [
    "import pickle \n",
    "import pandas as pd\n",
    "from sklearn.linear_model import Lasso\n",
    "from sklearn.model_selection import GridSearchCV\n",
    "from sklearn.metrics import mean_absolute_error, r2_score\n",
    "\n",
    "lasso = pickle.load(open('sweta/lasso.pkl','rb'))\n",
    "X_train = pd.read_csv('sweta/X_train_age.csv') \n",
    "y_train = pd.read_csv('sweta/y_train_age.csv')\n",
    "X_test = pd.read_csv('sweta/X_test_age.csv')\n",
    "y_test = pd.read_csv('sweta/y_test_age.csv')"
   ]
  },
  {
   "cell_type": "code",
   "execution_count": null,
   "id": "794d4a6f",
   "metadata": {
    "scrolled": false
   },
   "outputs": [],
   "source": [
    "X_train.columns.values"
   ]
  },
  {
   "cell_type": "code",
   "execution_count": null,
   "id": "3e16ddfd",
   "metadata": {},
   "outputs": [],
   "source": [
    "train_pred = lasso.predict(X_train)\n",
    "# test_pred = lasso.predict(X_test)\n",
    "# mae_train = mean_absolute_error(y_train, train_pred)\n",
    "# mae_test = mean_absolute_error(y_test, test_pred)\n",
    "# r2_train = r2_score(y_train, train_pred)\n",
    "# r2_test = r2_score(y_test, test_pred)\n",
    "# print('train mae:', mae_train,'\\ntest mae:', mae_test)\n",
    "# print('train r2:', r2_train,'\\ntest r2:', r2_test)"
   ]
  },
  {
   "cell_type": "code",
   "execution_count": null,
   "id": "9377b8db",
   "metadata": {},
   "outputs": [],
   "source": []
  }
 ],
 "metadata": {
  "kernelspec": {
   "display_name": "Python 3",
   "language": "python",
   "name": "python3"
  },
  "language_info": {
   "codemirror_mode": {
    "name": "ipython",
    "version": 3
   },
   "file_extension": ".py",
   "mimetype": "text/x-python",
   "name": "python",
   "nbconvert_exporter": "python",
   "pygments_lexer": "ipython3",
   "version": "3.8.8"
  }
 },
 "nbformat": 4,
 "nbformat_minor": 5
}
