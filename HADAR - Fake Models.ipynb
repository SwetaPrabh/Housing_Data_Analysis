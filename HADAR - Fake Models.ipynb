{
 "cells": [
  {
   "cell_type": "markdown",
   "id": "a356198e",
   "metadata": {},
   "source": [
    "# Machine Learning with Pipelines\n",
    "### (Incomplete)\n",
    "### Train, tune, and pickle models using Sweta's cleaned dataset\n",
    "**Each pipeline will:**\n",
    "- Standardize data with MinMax (vs standardscaler to accomodate binary dummy variables) \n",
    "- Select features with RFECV (recursive feature elimination with cross-validation)\n",
    "- Tune hyperparameters with GridSearchCV\n",
    "\n",
    "**Additional:**\n",
    "- Evaluate performance\n",
    "- Pickle\n",
    "- Ensemble for flask predictor tool"
   ]
  },
  {
   "cell_type": "code",
   "execution_count": 78,
   "id": "491cf9e5",
   "metadata": {},
   "outputs": [],
   "source": [
    "import numpy as np\n",
    "import pandas as pd\n",
    "from sklearn.pipeline import make_pipeline\n",
    "from sklearn.preprocessing import MinMaxScaler\n",
    "from sklearn.model_selection import train_test_split, GridSearchCV, KFold\n",
    "from sklearn.feature_selection import RFECV\n",
    "from sklearn.linear_model import LinearRegression, HuberRegressor, BayesianRidge\n",
    "from sklearn.ensemble import RandomForestRegressor, GradientBoostingRegressor\n",
    "from sklearn.metrics import mean_absolute_error, r2_score\n",
    "import pickle"
   ]
  },
  {
   "cell_type": "markdown",
   "id": "2da0d469",
   "metadata": {},
   "source": [
    "#### Pickle Code"
   ]
  },
  {
   "cell_type": "code",
   "execution_count": 82,
   "id": "49d2996d",
   "metadata": {},
   "outputs": [],
   "source": [
    "# # save the model to disk\n",
    "# filename = 'finalized_model.sav'\n",
    "# pickle.dump(model, open(filename, 'wb'))\n",
    " \n",
    "# # some time later...\n",
    " \n",
    "# # load the model from disk\n",
    "# loaded_model = pickle.load(open(filename, 'rb'))\n",
    "# result = loaded_model.score(X_test, Y_test)\n",
    "# print(result)"
   ]
  },
  {
   "cell_type": "markdown",
   "id": "cd69d259",
   "metadata": {},
   "source": [
    "### Load Dummified Data"
   ]
  },
  {
   "cell_type": "code",
   "execution_count": 83,
   "id": "d6806054",
   "metadata": {},
   "outputs": [],
   "source": [
    "train = pd.read_csv('dummi data/train_final.csv')\n",
    "test = pd.read_csv('dummi data/test_final.csv')\n",
    "# test[test.isna().any(axis=1)]\n",
    "test = test.dropna(axis=0)"
   ]
  },
  {
   "cell_type": "code",
   "execution_count": 84,
   "id": "8d78e984",
   "metadata": {},
   "outputs": [],
   "source": [
    "X_train = train.drop(columns=['SalePrice', 'PID', 'Unnamed: 0'])\n",
    "y_train = train['SalePrice']\n",
    "X_test = test.drop(columns=['SalePrice', 'PID', 'Unnamed: 0'])\n",
    "y_test = test['SalePrice']"
   ]
  },
  {
   "cell_type": "markdown",
   "id": "e24ddbeb",
   "metadata": {},
   "source": [
    "### Feature Selection"
   ]
  },
  {
   "cell_type": "code",
   "execution_count": null,
   "id": "a223512b",
   "metadata": {},
   "outputs": [],
   "source": []
  },
  {
   "cell_type": "code",
   "execution_count": null,
   "id": "a2b3e025",
   "metadata": {},
   "outputs": [],
   "source": []
  },
  {
   "cell_type": "markdown",
   "id": "67bb3831",
   "metadata": {},
   "source": [
    "### OLS Pipeline\n",
    "- HuberRegressor to mitigate impact of outliers\n",
    "- L2 Regularization"
   ]
  },
  {
   "cell_type": "code",
   "execution_count": 74,
   "id": "826c4405",
   "metadata": {},
   "outputs": [],
   "source": [
    "# hb = HuberRegressor(alpha=1)\n",
    "\n",
    "# pipe = make_pipeline(\n",
    "#     # standardize scale\n",
    "# #     MinMaxScaler(), \n",
    "#     HuberRegressor()    \n",
    "#     # feature selection \n",
    "# #     RFECV(hb, cv=4, scoring='accuracy')\n",
    "# )\n",
    "\n",
    "# # hyperparameter tuning\n",
    "# grid_pipe = GridSearchCV(pipe,\n",
    "#         param_grid={\n",
    "#             'alpha': [0.001, 0.01, 0.1, 1, 10, 100, 1000]\n",
    "#         }, cv=4, refit=True\n",
    "#     )\n",
    "\n",
    "# grid_pipe.fit(X_train, y_train)"
   ]
  },
  {
   "cell_type": "code",
   "execution_count": 75,
   "id": "fd219341",
   "metadata": {},
   "outputs": [],
   "source": [
    "# grid_pipe.best_score_"
   ]
  },
  {
   "cell_type": "code",
   "execution_count": 87,
   "id": "456434a4",
   "metadata": {},
   "outputs": [],
   "source": [
    "# hb = HuberRegressor()\n",
    "# hb.fit(X_train,y_train)\n",
    "\n",
    "# lm = LinearRegression()\n",
    "# lm.fit(X_train, y_train)"
   ]
  },
  {
   "cell_type": "code",
   "execution_count": 88,
   "id": "3f93b920",
   "metadata": {},
   "outputs": [
    {
     "data": {
      "text/plain": [
       "Pipeline(steps=[('minmaxscaler', MinMaxScaler()),\n",
       "                ('linearregression', LinearRegression())])"
      ]
     },
     "execution_count": 88,
     "metadata": {},
     "output_type": "execute_result"
    }
   ],
   "source": [
    "pipe = make_pipeline(\n",
    "    MinMaxScaler(),\n",
    "    LinearRegression()\n",
    ")\n",
    "\n",
    "pipe.fit(X_train, y_train)"
   ]
  },
  {
   "cell_type": "code",
   "execution_count": 89,
   "id": "77a1313e",
   "metadata": {},
   "outputs": [
    {
     "name": "stdout",
     "output_type": "stream",
     "text": [
      "mean abs err: 15231.121806359592\n",
      "r2: 0.8926889389619903\n"
     ]
    }
   ],
   "source": [
    "# evaluate model\n",
    "y_pred = pipe.predict(X_test)\n",
    "mae = mean_absolute_error(y_test, y_pred)\n",
    "print('mean abs err:', mae)\n",
    "r2 = r2_score(y_test, y_pred)\n",
    "print('r2:', r2)"
   ]
  },
  {
   "cell_type": "code",
   "execution_count": 90,
   "id": "17bd3568",
   "metadata": {},
   "outputs": [],
   "source": [
    "pickle.dump(pipe, open('Linear.sav', 'wb'))"
   ]
  },
  {
   "cell_type": "markdown",
   "id": "b3610925",
   "metadata": {},
   "source": [
    "### Bayesian Ridge Pipeline"
   ]
  },
  {
   "cell_type": "code",
   "execution_count": 88,
   "id": "5177eaa1",
   "metadata": {},
   "outputs": [
    {
     "data": {
      "text/plain": [
       "Pipeline(steps=[('minmaxscaler', MinMaxScaler()),\n",
       "                ('linearregression', LinearRegression())])"
      ]
     },
     "execution_count": 88,
     "metadata": {},
     "output_type": "execute_result"
    }
   ],
   "source": [
    "pipe = make_pipeline(\n",
    "    MinMaxScaler(),\n",
    "    LinearRegression()\n",
    ")\n",
    "\n",
    "pipe.fit(X_train, y_train)"
   ]
  },
  {
   "cell_type": "code",
   "execution_count": 89,
   "id": "7a840dc9",
   "metadata": {},
   "outputs": [
    {
     "name": "stdout",
     "output_type": "stream",
     "text": [
      "mean abs err: 15231.121806359592\n",
      "r2: 0.8926889389619903\n"
     ]
    }
   ],
   "source": [
    "# evaluate model\n",
    "y_pred = pipe.predict(X_test)\n",
    "mae = mean_absolute_error(y_test, y_pred)\n",
    "print('mean abs err:', mae)\n",
    "r2 = r2_score(y_test, y_pred)\n",
    "print('r2:', r2)"
   ]
  },
  {
   "cell_type": "code",
   "execution_count": 90,
   "id": "6ff23d49",
   "metadata": {},
   "outputs": [],
   "source": [
    "pickle.dump(pipe, open('Linear.sav', 'wb'))"
   ]
  },
  {
   "cell_type": "markdown",
   "id": "2a7edd70",
   "metadata": {},
   "source": [
    "### Random Forest Pipeline"
   ]
  },
  {
   "cell_type": "code",
   "execution_count": null,
   "id": "d172f5fe",
   "metadata": {},
   "outputs": [],
   "source": [
    "\n",
    "\n",
    "pickle.dump(model, open(filename, 'wb'))"
   ]
  },
  {
   "cell_type": "markdown",
   "id": "28acb067",
   "metadata": {},
   "source": [
    "### Gradient Booster Pipeline"
   ]
  },
  {
   "cell_type": "code",
   "execution_count": null,
   "id": "9d0e6776",
   "metadata": {},
   "outputs": [],
   "source": [
    "\n",
    "\n",
    "pickle.dump(model, open(filename, 'wb'))"
   ]
  },
  {
   "cell_type": "markdown",
   "id": "3a66d874",
   "metadata": {},
   "source": [
    "### SVM SVC Pipeline"
   ]
  },
  {
   "cell_type": "code",
   "execution_count": null,
   "id": "7643cf4f",
   "metadata": {},
   "outputs": [],
   "source": [
    "\n",
    "pickle.dump(model, open(filename, 'wb'))"
   ]
  },
  {
   "cell_type": "markdown",
   "id": "d6386ea2",
   "metadata": {},
   "source": [
    "### PCA Pipeline"
   ]
  },
  {
   "cell_type": "code",
   "execution_count": null,
   "id": "41b6f140",
   "metadata": {},
   "outputs": [],
   "source": []
  },
  {
   "cell_type": "markdown",
   "id": "8458568b",
   "metadata": {},
   "source": [
    "### Clustering Pipeline"
   ]
  },
  {
   "cell_type": "code",
   "execution_count": null,
   "id": "d1793c90",
   "metadata": {},
   "outputs": [],
   "source": []
  }
 ],
 "metadata": {
  "kernelspec": {
   "display_name": "Python 3",
   "language": "python",
   "name": "python3"
  },
  "language_info": {
   "codemirror_mode": {
    "name": "ipython",
    "version": 3
   },
   "file_extension": ".py",
   "mimetype": "text/x-python",
   "name": "python",
   "nbconvert_exporter": "python",
   "pygments_lexer": "ipython3",
   "version": "3.8.8"
  }
 },
 "nbformat": 4,
 "nbformat_minor": 5
}
