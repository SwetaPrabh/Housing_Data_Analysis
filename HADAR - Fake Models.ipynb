{
 "cells": [
  {
   "cell_type": "markdown",
   "id": "a356198e",
   "metadata": {},
   "source": [
    "# Machine Learning with Pipelines\n",
    "### (Incomplete)\n",
    "### Train, tune, and pickle models using Sweta's cleaned dataset\n",
    "**Each pipeline will:**\n",
    "- Standardize data with MinMax (vs standardscaler to accomodate binary dummy variables) \n",
    "- Select features with RFECV (recursive feature elimination with cross-validation)\n",
    "- Tune hyperparameters with GridSearchCV\n",
    "\n",
    "**Additional:**\n",
    "- Evaluate performance\n",
    "- Pickle\n",
    "- Ensemble for flask predictor tool"
   ]
  },
  {
   "cell_type": "code",
   "execution_count": 111,
   "id": "491cf9e5",
   "metadata": {},
   "outputs": [],
   "source": [
    "import numpy as np\n",
    "import pandas as pd\n",
    "from sklearn.pipeline import make_pipeline\n",
    "from sklearn.preprocessing import MinMaxScaler, StandardScaler\n",
    "from sklearn.model_selection import train_test_split, GridSearchCV, KFold\n",
    "from sklearn.feature_selection import RFECV\n",
    "from sklearn.linear_model import LinearRegression, HuberRegressor, BayesianRidge\n",
    "from sklearn.ensemble import RandomForestRegressor, GradientBoostingRegressor\n",
    "from sklearn.svm import SVR\n",
    "from sklearn.metrics import mean_absolute_error, r2_score\n",
    "import pickle"
   ]
  },
  {
   "cell_type": "markdown",
   "id": "2da0d469",
   "metadata": {},
   "source": [
    "#### Pickle Code"
   ]
  },
  {
   "cell_type": "code",
   "execution_count": 2,
   "id": "49d2996d",
   "metadata": {},
   "outputs": [],
   "source": [
    "# # save the model to disk\n",
    "# filename = 'finalized_model.sav'\n",
    "# pickle.dump(model, open(filename, 'wb'))\n",
    " \n",
    "# # some time later...\n",
    " \n",
    "# # load the model from disk\n",
    "# loaded_model = pickle.load(open(filename, 'rb'))\n",
    "# result = loaded_model.score(X_test, Y_test)\n",
    "# print(result)"
   ]
  },
  {
   "cell_type": "markdown",
   "id": "cd69d259",
   "metadata": {},
   "source": [
    "### Load Dummified Data"
   ]
  },
  {
   "cell_type": "code",
   "execution_count": 3,
   "id": "d6806054",
   "metadata": {},
   "outputs": [],
   "source": [
    "train = pd.read_csv('dummi data/train_final.csv')\n",
    "test = pd.read_csv('dummi data/test_final.csv')\n",
    "# test[test.isna().any(axis=1)]\n",
    "test = test.dropna(axis=0)"
   ]
  },
  {
   "cell_type": "code",
   "execution_count": 4,
   "id": "8d78e984",
   "metadata": {},
   "outputs": [],
   "source": [
    "X_train = train.drop(columns=['SalePrice', 'PID', 'Unnamed: 0'])\n",
    "y_train = train['SalePrice']\n",
    "X_test = test.drop(columns=['SalePrice', 'PID', 'Unnamed: 0'])\n",
    "y_test = test['SalePrice']"
   ]
  },
  {
   "cell_type": "markdown",
   "id": "8c3bdd92",
   "metadata": {},
   "source": [
    "### Feature Selection"
   ]
  },
  {
   "cell_type": "code",
   "execution_count": 57,
   "id": "df335e84",
   "metadata": {},
   "outputs": [
    {
     "data": {
      "text/plain": [
       "{'alpha': 98.01}"
      ]
     },
     "execution_count": 57,
     "metadata": {},
     "output_type": "execute_result"
    }
   ],
   "source": [
    "# Lasso GridSearchCV\n",
    "search = GridSearchCV(Lasso(random_state=0, tol=.1), \n",
    "                      {'alpha': np.arange(0.01,1000,1)},\n",
    "                     cv=5,\n",
    "        scoring='neg_mean_squared_error'\n",
    "                     )\n",
    "search.fit(X_train, y_train)\n",
    "search.best_params_"
   ]
  },
  {
   "cell_type": "code",
   "execution_count": 68,
   "id": "f2432a43",
   "metadata": {},
   "outputs": [],
   "source": [
    "pickle.dump(search, open('FS_LassoGridSearch.sav', 'wb'))"
   ]
  },
  {
   "cell_type": "code",
   "execution_count": 92,
   "id": "056a92e4",
   "metadata": {},
   "outputs": [],
   "source": [
    "coefficients = search.best_estimator_.coef_\n",
    "importance = np.abs(coefficients)\n",
    "features = X_train.columns\n",
    "keep_feat = np.array(features)[importance > 10]\n",
    "X_train[keep_feat].columns\n",
    "X_train = X_train[keep_feat]\n",
    "X_test = X_test[keep_feat]"
   ]
  },
  {
   "cell_type": "code",
   "execution_count": 93,
   "id": "e4327240",
   "metadata": {},
   "outputs": [],
   "source": [
    "# RFECV and RandomForestRegressor."
   ]
  },
  {
   "cell_type": "code",
   "execution_count": 94,
   "id": "cfba4c47",
   "metadata": {},
   "outputs": [],
   "source": [
    "# pickle.dump(rfecv, open('FS_RFECV.sav', 'wb'))"
   ]
  },
  {
   "cell_type": "markdown",
   "id": "67bb3831",
   "metadata": {},
   "source": [
    "### OLS Pipeline\n",
    "- HuberRegressor to mitigate impact of outliers\n",
    "- L2 Regularization"
   ]
  },
  {
   "cell_type": "code",
   "execution_count": 95,
   "id": "976ec428",
   "metadata": {},
   "outputs": [],
   "source": [
    "# hb = HuberRegressor(alpha=1)\n",
    "\n",
    "# pipe = make_pipeline(\n",
    "#     # standardize scale\n",
    "# #     MinMaxScaler(), \n",
    "#     HuberRegressor()    \n",
    "#     # feature selection \n",
    "# #     RFECV(hb, cv=4, scoring='accuracy')\n",
    "# )\n",
    "\n",
    "# # hyperparameter tuning\n",
    "# grid_pipe = GridSearchCV(pipe,\n",
    "#         param_grid={\n",
    "#             'alpha': [0.001, 0.01, 0.1, 1, 10, 100, 1000]\n",
    "#         }, cv=4, refit=True\n",
    "#     )\n",
    "\n",
    "# grid_pipe.fit(X_train, y_train)"
   ]
  },
  {
   "cell_type": "code",
   "execution_count": 96,
   "id": "6d574456",
   "metadata": {},
   "outputs": [],
   "source": [
    "# grid_pipe.best_score_"
   ]
  },
  {
   "cell_type": "code",
   "execution_count": 97,
   "id": "decbad39",
   "metadata": {},
   "outputs": [],
   "source": [
    "# hb = HuberRegressor()\n",
    "# hb.fit(X_train,y_train)\n",
    "\n",
    "# lm = LinearRegression()\n",
    "# lm.fit(X_train, y_train)"
   ]
  },
  {
   "cell_type": "code",
   "execution_count": 98,
   "id": "0bd7a48d",
   "metadata": {},
   "outputs": [
    {
     "data": {
      "text/plain": [
       "Pipeline(steps=[('minmaxscaler', MinMaxScaler()),\n",
       "                ('linearregression', LinearRegression())])"
      ]
     },
     "execution_count": 98,
     "metadata": {},
     "output_type": "execute_result"
    }
   ],
   "source": [
    "ols = make_pipeline(\n",
    "    MinMaxScaler(),\n",
    "    LinearRegression()\n",
    ")\n",
    "\n",
    "ols.fit(X_train, y_train)"
   ]
  },
  {
   "cell_type": "code",
   "execution_count": 99,
   "id": "40721140",
   "metadata": {
    "scrolled": true
   },
   "outputs": [
    {
     "name": "stdout",
     "output_type": "stream",
     "text": [
      "mean abs err: 15613.513333333334\n",
      "r2: 0.886479063191782\n"
     ]
    }
   ],
   "source": [
    "# evaluate model\n",
    "y_pred = ols.predict(X_test)\n",
    "mae = mean_absolute_error(y_test, y_pred)\n",
    "print('mean abs err:', mae)\n",
    "r2 = r2_score(y_test, y_pred)\n",
    "print('r2:', r2)"
   ]
  },
  {
   "cell_type": "code",
   "execution_count": 100,
   "id": "17bd3568",
   "metadata": {},
   "outputs": [],
   "source": [
    "pickle.dump(ols, open('Linear.sav', 'wb'))"
   ]
  },
  {
   "cell_type": "markdown",
   "id": "b3610925",
   "metadata": {},
   "source": [
    "### Bayesian Ridge Pipeline"
   ]
  },
  {
   "cell_type": "code",
   "execution_count": 101,
   "id": "50371c7a",
   "metadata": {},
   "outputs": [
    {
     "data": {
      "text/plain": [
       "Pipeline(steps=[('minmaxscaler', MinMaxScaler()),\n",
       "                ('bayesianridge', BayesianRidge())])"
      ]
     },
     "execution_count": 101,
     "metadata": {},
     "output_type": "execute_result"
    }
   ],
   "source": [
    "br = make_pipeline(\n",
    "    MinMaxScaler(),\n",
    "    BayesianRidge()\n",
    ")\n",
    "\n",
    "br.fit(X_train, y_train)"
   ]
  },
  {
   "cell_type": "code",
   "execution_count": 102,
   "id": "cef1af92",
   "metadata": {},
   "outputs": [
    {
     "name": "stdout",
     "output_type": "stream",
     "text": [
      "mean abs err: 15502.735972678454\n",
      "r2: 0.8868992723194256\n"
     ]
    }
   ],
   "source": [
    "# evaluate model\n",
    "y_pred = br.predict(X_test)\n",
    "mae = mean_absolute_error(y_test, y_pred)\n",
    "print('mean abs err:', mae)\n",
    "r2 = r2_score(y_test, y_pred)\n",
    "print('r2:', r2)"
   ]
  },
  {
   "cell_type": "code",
   "execution_count": 103,
   "id": "80df53f4",
   "metadata": {},
   "outputs": [],
   "source": [
    "pickle.dump(br, open('BayesianRidge.sav', 'wb'))"
   ]
  },
  {
   "cell_type": "markdown",
   "id": "2a7edd70",
   "metadata": {},
   "source": [
    "### Random Forest Pipeline"
   ]
  },
  {
   "cell_type": "code",
   "execution_count": 104,
   "id": "553bf77b",
   "metadata": {},
   "outputs": [
    {
     "data": {
      "text/plain": [
       "Pipeline(steps=[('minmaxscaler', MinMaxScaler()),\n",
       "                ('randomforestregressor', RandomForestRegressor())])"
      ]
     },
     "execution_count": 104,
     "metadata": {},
     "output_type": "execute_result"
    }
   ],
   "source": [
    "rf = make_pipeline(\n",
    "    MinMaxScaler(),\n",
    "    RandomForestRegressor()\n",
    ")\n",
    "\n",
    "rf.fit(X_train, y_train)"
   ]
  },
  {
   "cell_type": "code",
   "execution_count": 105,
   "id": "c6e02b16",
   "metadata": {},
   "outputs": [
    {
     "name": "stdout",
     "output_type": "stream",
     "text": [
      "mean abs err: 14543.00231851852\n",
      "r2: 0.8897111619717812\n"
     ]
    }
   ],
   "source": [
    "# evaluate model\n",
    "y_pred = rf.predict(X_test)\n",
    "mae = mean_absolute_error(y_test, y_pred)\n",
    "print('mean abs err:', mae)\n",
    "r2 = r2_score(y_test, y_pred)\n",
    "print('r2:', r2)"
   ]
  },
  {
   "cell_type": "code",
   "execution_count": 106,
   "id": "61b15a81",
   "metadata": {},
   "outputs": [],
   "source": [
    "pickle.dump(rf, open('RandomForest.sav', 'wb'))"
   ]
  },
  {
   "cell_type": "markdown",
   "id": "28acb067",
   "metadata": {},
   "source": [
    "### Gradient Booster Pipeline"
   ]
  },
  {
   "cell_type": "code",
   "execution_count": 107,
   "id": "53d1a948",
   "metadata": {},
   "outputs": [
    {
     "data": {
      "text/plain": [
       "Pipeline(steps=[('minmaxscaler', MinMaxScaler()),\n",
       "                ('gradientboostingregressor', GradientBoostingRegressor())])"
      ]
     },
     "execution_count": 107,
     "metadata": {},
     "output_type": "execute_result"
    }
   ],
   "source": [
    "gb = make_pipeline(\n",
    "    MinMaxScaler(),\n",
    "    GradientBoostingRegressor()\n",
    ")\n",
    "\n",
    "gb.fit(X_train, y_train)"
   ]
  },
  {
   "cell_type": "code",
   "execution_count": 108,
   "id": "fb0e98cc",
   "metadata": {},
   "outputs": [
    {
     "name": "stdout",
     "output_type": "stream",
     "text": [
      "mean abs err: 13230.552917928684\n",
      "r2: 0.9229897622643011\n"
     ]
    }
   ],
   "source": [
    "# evaluate model\n",
    "y_pred = gb.predict(X_test)\n",
    "mae = mean_absolute_error(y_test, y_pred)\n",
    "print('mean abs err:', mae)\n",
    "r2 = r2_score(y_test, y_pred)\n",
    "print('r2:', r2)"
   ]
  },
  {
   "cell_type": "code",
   "execution_count": 109,
   "id": "09df9650",
   "metadata": {},
   "outputs": [],
   "source": [
    "pickle.dump(gb, open('GBooster.sav', 'wb'))"
   ]
  },
  {
   "cell_type": "markdown",
   "id": "3a66d874",
   "metadata": {},
   "source": [
    "### SVM SVR Pipeline (poor performance)"
   ]
  },
  {
   "cell_type": "code",
   "execution_count": 112,
   "id": "620c5cfb",
   "metadata": {},
   "outputs": [
    {
     "data": {
      "text/plain": [
       "Pipeline(steps=[('minmaxscaler', MinMaxScaler()), ('svr', SVR())])"
      ]
     },
     "execution_count": 112,
     "metadata": {},
     "output_type": "execute_result"
    }
   ],
   "source": [
    "svr = make_pipeline(\n",
    "    MinMaxScaler(),\n",
    "    SVR()\n",
    ")\n",
    "\n",
    "svr.fit(X_train, y_train)"
   ]
  },
  {
   "cell_type": "code",
   "execution_count": 113,
   "id": "528155af",
   "metadata": {},
   "outputs": [
    {
     "name": "stdout",
     "output_type": "stream",
     "text": [
      "mean abs err: 47645.3450582701\n",
      "r2: -0.03931731190896737\n"
     ]
    }
   ],
   "source": [
    "# evaluate model\n",
    "y_pred = svr.predict(X_test)\n",
    "mae = mean_absolute_error(y_test, y_pred)\n",
    "print('mean abs err:', mae)\n",
    "r2 = r2_score(y_test, y_pred)\n",
    "print('r2:', r2)"
   ]
  },
  {
   "cell_type": "code",
   "execution_count": 114,
   "id": "835f38aa",
   "metadata": {},
   "outputs": [],
   "source": [
    "# pickle.dump(pipe, open('SupportVector.sav', 'wb'))"
   ]
  },
  {
   "cell_type": "markdown",
   "id": "701b4c2e",
   "metadata": {},
   "source": [
    "### Sale Range from all Features"
   ]
  },
  {
   "cell_type": "code",
   "execution_count": 115,
   "id": "ad6da29b",
   "metadata": {},
   "outputs": [],
   "source": [
    "def salePrice_range(features):\n",
    "    pred_list = [ols.predict(features), \n",
    "                 br.predict(features), \n",
    "                 rf.predict(features),\n",
    "                 gb.predict(features)]\n",
    "    low = min(pred_list)\n",
    "    low_fmt = '${:,.2f}'.format(low[0])\n",
    "    high = max(pred_list)\n",
    "    high_fmt = '${:,.2f}'.format(high[0])\n",
    "    return print(low_fmt,'-',high_fmt) \n",
    "\n",
    "pretend_features = X_test.sample(1, random_state=0)\n",
    "\n",
    "salePrice_range(pretend_features)"
   ]
  },
  {
   "cell_type": "markdown",
   "id": "1aa92251",
   "metadata": {},
   "source": [
    "### Ensemble (incomplete)"
   ]
  },
  {
   "cell_type": "code",
   "execution_count": null,
   "id": "e964c6aa",
   "metadata": {},
   "outputs": [],
   "source": [
    "# combine predictions of weak learners ?\n",
    "x_train = np.column_stack((ols_pred, br_pred, rf_pred, gb_pred))"
   ]
  },
  {
   "cell_type": "code",
   "execution_count": null,
   "id": "02db3381",
   "metadata": {},
   "outputs": [],
   "source": [
    "# def trainStackModel(x_train, y_train, X_test, n_folds, seed):\n",
    "#     cv = KFold(n_splits=N_folds, random_state=seed)\n",
    "#     gbm = xgb.XGBRegressor(\n",
    "#         n_estimators= 600,\n",
    "#     )"
   ]
  },
  {
   "cell_type": "markdown",
   "id": "d6386ea2",
   "metadata": {},
   "source": [
    "### PCA Pipeline"
   ]
  },
  {
   "cell_type": "code",
   "execution_count": null,
   "id": "41b6f140",
   "metadata": {},
   "outputs": [],
   "source": []
  },
  {
   "cell_type": "markdown",
   "id": "8458568b",
   "metadata": {},
   "source": [
    "### Clustering Pipeline"
   ]
  },
  {
   "cell_type": "code",
   "execution_count": null,
   "id": "d1793c90",
   "metadata": {},
   "outputs": [],
   "source": []
  }
 ],
 "metadata": {
  "kernelspec": {
   "display_name": "Python 3",
   "language": "python",
   "name": "python3"
  },
  "language_info": {
   "codemirror_mode": {
    "name": "ipython",
    "version": 3
   },
   "file_extension": ".py",
   "mimetype": "text/x-python",
   "name": "python",
   "nbconvert_exporter": "python",
   "pygments_lexer": "ipython3",
   "version": "3.8.8"
  }
 },
 "nbformat": 4,
 "nbformat_minor": 5
}
