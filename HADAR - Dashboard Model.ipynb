{
 "cells": [
  {
   "cell_type": "markdown",
   "id": "58a1ed03",
   "metadata": {},
   "source": [
    "# Dashboard Model"
   ]
  },
  {
   "cell_type": "code",
   "execution_count": 1,
   "id": "00661075",
   "metadata": {},
   "outputs": [],
   "source": [
    "import pickle \n",
    "import numpy as np\n",
    "import pandas as pd\n",
    "from sklearn.linear_model import Lasso\n",
    "from sklearn.metrics import r2_score, mean_absolute_error\n",
    "from sklearn.pipeline import make_pipeline\n",
    "from sklearn.preprocessing import MinMaxScaler\n",
    "from sklearn.model_selection import GridSearchCV, train_test_split"
   ]
  },
  {
   "cell_type": "markdown",
   "id": "fc0fdfe2",
   "metadata": {},
   "source": [
    "### Load and Split Data"
   ]
  },
  {
   "cell_type": "code",
   "execution_count": 2,
   "id": "bc066157",
   "metadata": {},
   "outputs": [],
   "source": [
    "data = pd.read_csv('HADAR - encoded.csv')"
   ]
  },
  {
   "cell_type": "code",
   "execution_count": 3,
   "id": "06abe332",
   "metadata": {},
   "outputs": [],
   "source": [
    "features = data.drop(columns=['SalePrice','MSSubClass','GrLivArea'])\n",
    "target = data.SalePrice"
   ]
  },
  {
   "cell_type": "code",
   "execution_count": 4,
   "id": "79ff9709",
   "metadata": {},
   "outputs": [],
   "source": [
    "X_train, X_test, y_train, y_test = train_test_split(features, target, test_size=.2, random_state=0)"
   ]
  },
  {
   "cell_type": "code",
   "execution_count": 5,
   "id": "11f8713a",
   "metadata": {},
   "outputs": [
    {
     "data": {
      "text/plain": [
       "(2064, 200)"
      ]
     },
     "execution_count": 5,
     "metadata": {},
     "output_type": "execute_result"
    }
   ],
   "source": [
    "X_train.shape"
   ]
  },
  {
   "cell_type": "markdown",
   "id": "f2362da2",
   "metadata": {},
   "source": [
    "### Feature Selection"
   ]
  },
  {
   "cell_type": "code",
   "execution_count": 6,
   "id": "a5c83736",
   "metadata": {},
   "outputs": [
    {
     "data": {
      "text/html": [
       "<div>\n",
       "<style scoped>\n",
       "    .dataframe tbody tr th:only-of-type {\n",
       "        vertical-align: middle;\n",
       "    }\n",
       "\n",
       "    .dataframe tbody tr th {\n",
       "        vertical-align: top;\n",
       "    }\n",
       "\n",
       "    .dataframe thead th {\n",
       "        text-align: right;\n",
       "    }\n",
       "</style>\n",
       "<table border=\"1\" class=\"dataframe\">\n",
       "  <thead>\n",
       "    <tr style=\"text-align: right;\">\n",
       "      <th></th>\n",
       "      <th>0</th>\n",
       "      <th>1</th>\n",
       "    </tr>\n",
       "  </thead>\n",
       "  <tbody>\n",
       "    <tr>\n",
       "      <th>18</th>\n",
       "      <td>GarageCars</td>\n",
       "      <td>17741.066462</td>\n",
       "    </tr>\n",
       "    <tr>\n",
       "      <th>1</th>\n",
       "      <td>OverallQual</td>\n",
       "      <td>10702.687545</td>\n",
       "    </tr>\n",
       "    <tr>\n",
       "      <th>17</th>\n",
       "      <td>GarageYrBlt</td>\n",
       "      <td>8172.486518</td>\n",
       "    </tr>\n",
       "    <tr>\n",
       "      <th>49</th>\n",
       "      <td>Neighborhood_Mitchel</td>\n",
       "      <td>6854.990902</td>\n",
       "    </tr>\n",
       "    <tr>\n",
       "      <th>2</th>\n",
       "      <td>OverallCond</td>\n",
       "      <td>6387.882746</td>\n",
       "    </tr>\n",
       "    <tr>\n",
       "      <th>20</th>\n",
       "      <td>WoodDeckSF</td>\n",
       "      <td>5320.875147</td>\n",
       "    </tr>\n",
       "    <tr>\n",
       "      <th>62</th>\n",
       "      <td>Exterior1st_Plywood</td>\n",
       "      <td>4573.435082</td>\n",
       "    </tr>\n",
       "    <tr>\n",
       "      <th>22</th>\n",
       "      <td>EnclosedPorch</td>\n",
       "      <td>3785.780533</td>\n",
       "    </tr>\n",
       "    <tr>\n",
       "      <th>48</th>\n",
       "      <td>Neighborhood_Gilbert</td>\n",
       "      <td>3751.396328</td>\n",
       "    </tr>\n",
       "    <tr>\n",
       "      <th>34</th>\n",
       "      <td>BsmtFinType2_Enc</td>\n",
       "      <td>2918.671188</td>\n",
       "    </tr>\n",
       "    <tr>\n",
       "      <th>43</th>\n",
       "      <td>MSZoning_RL</td>\n",
       "      <td>2840.663663</td>\n",
       "    </tr>\n",
       "    <tr>\n",
       "      <th>19</th>\n",
       "      <td>GarageArea</td>\n",
       "      <td>2597.214944</td>\n",
       "    </tr>\n",
       "    <tr>\n",
       "      <th>72</th>\n",
       "      <td>SaleType_WD</td>\n",
       "      <td>2012.188397</td>\n",
       "    </tr>\n",
       "    <tr>\n",
       "      <th>38</th>\n",
       "      <td>FireplaceQu_Enc</td>\n",
       "      <td>1861.516405</td>\n",
       "    </tr>\n",
       "    <tr>\n",
       "      <th>39</th>\n",
       "      <td>GarageFinish_Enc</td>\n",
       "      <td>1644.433387</td>\n",
       "    </tr>\n",
       "    <tr>\n",
       "      <th>36</th>\n",
       "      <td>KitchenQual_Enc</td>\n",
       "      <td>874.471035</td>\n",
       "    </tr>\n",
       "    <tr>\n",
       "      <th>42</th>\n",
       "      <td>PoolQC_Enc</td>\n",
       "      <td>683.345296</td>\n",
       "    </tr>\n",
       "    <tr>\n",
       "      <th>3</th>\n",
       "      <td>YearBuilt</td>\n",
       "      <td>641.442227</td>\n",
       "    </tr>\n",
       "    <tr>\n",
       "      <th>46</th>\n",
       "      <td>Neighborhood_CollgCr</td>\n",
       "      <td>630.539718</td>\n",
       "    </tr>\n",
       "    <tr>\n",
       "      <th>35</th>\n",
       "      <td>HeatingQC_Enc</td>\n",
       "      <td>608.006745</td>\n",
       "    </tr>\n",
       "  </tbody>\n",
       "</table>\n",
       "</div>"
      ],
      "text/plain": [
       "                       0             1\n",
       "18            GarageCars  17741.066462\n",
       "1            OverallQual  10702.687545\n",
       "17           GarageYrBlt   8172.486518\n",
       "49  Neighborhood_Mitchel   6854.990902\n",
       "2            OverallCond   6387.882746\n",
       "20            WoodDeckSF   5320.875147\n",
       "62   Exterior1st_Plywood   4573.435082\n",
       "22         EnclosedPorch   3785.780533\n",
       "48  Neighborhood_Gilbert   3751.396328\n",
       "34      BsmtFinType2_Enc   2918.671188\n",
       "43           MSZoning_RL   2840.663663\n",
       "19            GarageArea   2597.214944\n",
       "72          SaleType_WD    2012.188397\n",
       "38       FireplaceQu_Enc   1861.516405\n",
       "39      GarageFinish_Enc   1644.433387\n",
       "36       KitchenQual_Enc    874.471035\n",
       "42            PoolQC_Enc    683.345296\n",
       "3              YearBuilt    641.442227\n",
       "46  Neighborhood_CollgCr    630.539718\n",
       "35         HeatingQC_Enc    608.006745"
      ]
     },
     "execution_count": 6,
     "metadata": {},
     "output_type": "execute_result"
    }
   ],
   "source": [
    "clv = Lasso(random_state=0).fit(X_train, y_train)\n",
    "search = GridSearchCV(Lasso(random_state=0, tol=.1), \n",
    "                      {'alpha': np.arange(0.01,1000,1)},\n",
    "                     cv=5,\n",
    "        scoring='neg_mean_squared_error'\n",
    "                     )\n",
    "search.fit(X_train, y_train)\n",
    "search.best_params_\n",
    "\n",
    "pickle.dump(search, open('flask_fsgs.sav', 'wb'))\n",
    "search = pickle.load(open('flask_fsgs.sav', 'rb'))\n",
    "search.best_params_\n",
    "\n",
    "coefficients = search.best_estimator_.coef_\n",
    "importance = np.abs(coefficients)\n",
    "features = X_train.columns\n",
    "keep_feat = np.array(features)[importance > 0]\n",
    "X_train = X_train[keep_feat]\n",
    "X_test = X_test[keep_feat]\n",
    "\n",
    "df_imp = pd.DataFrame(zip(keep_feat,importance)).sort_values(1, ascending = False)\n",
    "df_imp = df_imp.loc[df_imp[1]>0]\n",
    "df_imp[:20]"
   ]
  },
  {
   "cell_type": "code",
   "execution_count": 7,
   "id": "a5e0b04f",
   "metadata": {},
   "outputs": [],
   "source": [
    "X = X_train[keep_feat]"
   ]
  },
  {
   "cell_type": "code",
   "execution_count": 8,
   "id": "2a547d67",
   "metadata": {
    "scrolled": false
   },
   "outputs": [
    {
     "data": {
      "text/plain": [
       "Lasso(random_state=0)"
      ]
     },
     "execution_count": 8,
     "metadata": {},
     "output_type": "execute_result"
    }
   ],
   "source": [
    "las = Lasso(random_state=0)\n",
    "las.fit(X,y_train)"
   ]
  },
  {
   "cell_type": "code",
   "execution_count": 9,
   "id": "4c9efbae",
   "metadata": {},
   "outputs": [
    {
     "data": {
      "text/plain": [
       "0.9110554622952276"
      ]
     },
     "execution_count": 9,
     "metadata": {},
     "output_type": "execute_result"
    }
   ],
   "source": [
    "check_pred = las.predict(X_test[keep_feat])\n",
    "r2_score(y_test, check_pred)"
   ]
  },
  {
   "cell_type": "code",
   "execution_count": 10,
   "id": "f4c38758",
   "metadata": {},
   "outputs": [],
   "source": [
    "# save 10 feature set\n",
    "dummies = ['Neighborhood',\n",
    "           'BldgType', \n",
    "           'HouseStyle',\n",
    "           'Exterior1st',\n",
    "          'Exterior2nd',\n",
    "          'MasVnrType',\n",
    "          'Foundation',\n",
    "          'Electrical',\n",
    "          'GarageType',\n",
    "          'SaleType',\n",
    "          'SaleCondition']\n",
    "# cols = [c for c in keep_feat if c[] != 'test']\n",
    "# df.loc[:,~df.columns.str.contains('^test', case=False)] "
   ]
  },
  {
   "cell_type": "code",
   "execution_count": 11,
   "id": "0af1a8a2",
   "metadata": {},
   "outputs": [
    {
     "data": {
      "text/plain": [
       "['two']"
      ]
     },
     "execution_count": 11,
     "metadata": {},
     "output_type": "execute_result"
    }
   ],
   "source": [
    "strings = [\"one\", \"two\", \"three\"]\n",
    "substring = \"wo\"\n",
    "\n",
    "strings_with_substring = [string for string in strings if substring in string]\n",
    "strings_with_substring"
   ]
  },
  {
   "cell_type": "code",
   "execution_count": 17,
   "id": "eebda16b",
   "metadata": {},
   "outputs": [],
   "source": [
    "######### EXCLUDE DUMMIFIED VARIABLES DUE TO TIME CRUNCH ############\n",
    "\n",
    "# for loop fail\n",
    "# keep_feat_new = []\n",
    "# for value in keep_feat:\n",
    "#     for item in dummies:\n",
    "#         keep_feat_new = [value for value in keep_feat if item not in value]\n",
    "# keep_feat.size\n",
    "keep_feat_new = ['LotArea',\n",
    "                 'OverallQual',\n",
    "                 'YearBuilt',\n",
    "                 'YearRemodAdd',\n",
    "                 'MasVnrArea',\n",
    "                 'BsmtFinSF1',\n",
    "                 'BsmtFinSF2',\n",
    "                 'BsmtUnfSF',\n",
    "                 'TotalBsmtSF',\n",
    "                 '1stFlrSF',\n",
    "                 '2ndFlrSF',\n",
    "                 'LowQualFinSF',\n",
    "                 'BedroomAbvGr',\n",
    "                 'TotRmsAbvGrd',\n",
    "                 'Fireplaces',\n",
    "                 'GarageYrBlt',\n",
    "                 'GarageCars',\n",
    "                 'GarageArea','WoodDeckSF','OpenPorchSF','EnclosedPorch','3SsnPorch','ScreenPorch','PoolArea','MoSold','YrSold','ExterQual_Enc','BsmtExposure_Enc',\n",
    " 'BsmtFinType1_Enc',\n",
    " 'BsmtFinType2_Enc',\n",
    " 'HeatingQC_Enc',\n",
    " 'KitchenQual_Enc',\n",
    " 'Functional_Enc',\n",
    " 'FireplaceQu_Enc',\n",
    " 'GarageFinish_Enc',\n",
    " 'GarageQual_Enc',\n",
    " 'PavedDrive_Enc',\n",
    " 'PoolQC_Enc',\n",
    " 'LandContour_HLS']"
   ]
  },
  {
   "cell_type": "code",
   "execution_count": 18,
   "id": "60543cfb",
   "metadata": {},
   "outputs": [
    {
     "data": {
      "text/html": [
       "<div>\n",
       "<style scoped>\n",
       "    .dataframe tbody tr th:only-of-type {\n",
       "        vertical-align: middle;\n",
       "    }\n",
       "\n",
       "    .dataframe tbody tr th {\n",
       "        vertical-align: top;\n",
       "    }\n",
       "\n",
       "    .dataframe thead th {\n",
       "        text-align: right;\n",
       "    }\n",
       "</style>\n",
       "<table border=\"1\" class=\"dataframe\">\n",
       "  <thead>\n",
       "    <tr style=\"text-align: right;\">\n",
       "      <th></th>\n",
       "      <th>LotArea</th>\n",
       "      <th>OverallQual</th>\n",
       "      <th>YearBuilt</th>\n",
       "      <th>YearRemodAdd</th>\n",
       "      <th>MasVnrArea</th>\n",
       "      <th>BsmtFinSF1</th>\n",
       "      <th>BsmtFinSF2</th>\n",
       "      <th>BsmtUnfSF</th>\n",
       "      <th>TotalBsmtSF</th>\n",
       "      <th>1stFlrSF</th>\n",
       "      <th>...</th>\n",
       "      <th>BsmtFinType2_Enc</th>\n",
       "      <th>HeatingQC_Enc</th>\n",
       "      <th>KitchenQual_Enc</th>\n",
       "      <th>Functional_Enc</th>\n",
       "      <th>FireplaceQu_Enc</th>\n",
       "      <th>GarageFinish_Enc</th>\n",
       "      <th>GarageQual_Enc</th>\n",
       "      <th>PavedDrive_Enc</th>\n",
       "      <th>PoolQC_Enc</th>\n",
       "      <th>LandContour_HLS</th>\n",
       "    </tr>\n",
       "  </thead>\n",
       "  <tbody>\n",
       "    <tr>\n",
       "      <th>2467</th>\n",
       "      <td>14559</td>\n",
       "      <td>5</td>\n",
       "      <td>1951</td>\n",
       "      <td>2000</td>\n",
       "      <td>70.0</td>\n",
       "      <td>650.0</td>\n",
       "      <td>180.0</td>\n",
       "      <td>178.0</td>\n",
       "      <td>1008.0</td>\n",
       "      <td>1363</td>\n",
       "      <td>...</td>\n",
       "      <td>3</td>\n",
       "      <td>5</td>\n",
       "      <td>1</td>\n",
       "      <td>1</td>\n",
       "      <td>1</td>\n",
       "      <td>1</td>\n",
       "      <td>1</td>\n",
       "      <td>2</td>\n",
       "      <td>0</td>\n",
       "      <td>0</td>\n",
       "    </tr>\n",
       "    <tr>\n",
       "      <th>220</th>\n",
       "      <td>11952</td>\n",
       "      <td>7</td>\n",
       "      <td>1977</td>\n",
       "      <td>1977</td>\n",
       "      <td>0.0</td>\n",
       "      <td>0.0</td>\n",
       "      <td>0.0</td>\n",
       "      <td>808.0</td>\n",
       "      <td>808.0</td>\n",
       "      <td>1161</td>\n",
       "      <td>...</td>\n",
       "      <td>1</td>\n",
       "      <td>1</td>\n",
       "      <td>1</td>\n",
       "      <td>0</td>\n",
       "      <td>4</td>\n",
       "      <td>2</td>\n",
       "      <td>1</td>\n",
       "      <td>2</td>\n",
       "      <td>0</td>\n",
       "      <td>0</td>\n",
       "    </tr>\n",
       "    <tr>\n",
       "      <th>1101</th>\n",
       "      <td>8546</td>\n",
       "      <td>4</td>\n",
       "      <td>2003</td>\n",
       "      <td>2004</td>\n",
       "      <td>0.0</td>\n",
       "      <td>0.0</td>\n",
       "      <td>0.0</td>\n",
       "      <td>1121.0</td>\n",
       "      <td>1121.0</td>\n",
       "      <td>1121</td>\n",
       "      <td>...</td>\n",
       "      <td>1</td>\n",
       "      <td>5</td>\n",
       "      <td>1</td>\n",
       "      <td>0</td>\n",
       "      <td>0</td>\n",
       "      <td>2</td>\n",
       "      <td>1</td>\n",
       "      <td>2</td>\n",
       "      <td>0</td>\n",
       "      <td>0</td>\n",
       "    </tr>\n",
       "    <tr>\n",
       "      <th>17</th>\n",
       "      <td>8248</td>\n",
       "      <td>3</td>\n",
       "      <td>1914</td>\n",
       "      <td>1950</td>\n",
       "      <td>0.0</td>\n",
       "      <td>41.0</td>\n",
       "      <td>0.0</td>\n",
       "      <td>823.0</td>\n",
       "      <td>864.0</td>\n",
       "      <td>864</td>\n",
       "      <td>...</td>\n",
       "      <td>1</td>\n",
       "      <td>1</td>\n",
       "      <td>1</td>\n",
       "      <td>0</td>\n",
       "      <td>0</td>\n",
       "      <td>0</td>\n",
       "      <td>0</td>\n",
       "      <td>0</td>\n",
       "      <td>0</td>\n",
       "      <td>0</td>\n",
       "    </tr>\n",
       "    <tr>\n",
       "      <th>58</th>\n",
       "      <td>10542</td>\n",
       "      <td>7</td>\n",
       "      <td>1993</td>\n",
       "      <td>1994</td>\n",
       "      <td>651.0</td>\n",
       "      <td>1173.0</td>\n",
       "      <td>0.0</td>\n",
       "      <td>138.0</td>\n",
       "      <td>1311.0</td>\n",
       "      <td>1325</td>\n",
       "      <td>...</td>\n",
       "      <td>1</td>\n",
       "      <td>5</td>\n",
       "      <td>4</td>\n",
       "      <td>0</td>\n",
       "      <td>1</td>\n",
       "      <td>2</td>\n",
       "      <td>1</td>\n",
       "      <td>2</td>\n",
       "      <td>0</td>\n",
       "      <td>0</td>\n",
       "    </tr>\n",
       "    <tr>\n",
       "      <th>...</th>\n",
       "      <td>...</td>\n",
       "      <td>...</td>\n",
       "      <td>...</td>\n",
       "      <td>...</td>\n",
       "      <td>...</td>\n",
       "      <td>...</td>\n",
       "      <td>...</td>\n",
       "      <td>...</td>\n",
       "      <td>...</td>\n",
       "      <td>...</td>\n",
       "      <td>...</td>\n",
       "      <td>...</td>\n",
       "      <td>...</td>\n",
       "      <td>...</td>\n",
       "      <td>...</td>\n",
       "      <td>...</td>\n",
       "      <td>...</td>\n",
       "      <td>...</td>\n",
       "      <td>...</td>\n",
       "      <td>...</td>\n",
       "      <td>...</td>\n",
       "    </tr>\n",
       "    <tr>\n",
       "      <th>1033</th>\n",
       "      <td>9084</td>\n",
       "      <td>4</td>\n",
       "      <td>1940</td>\n",
       "      <td>1950</td>\n",
       "      <td>0.0</td>\n",
       "      <td>0.0</td>\n",
       "      <td>0.0</td>\n",
       "      <td>755.0</td>\n",
       "      <td>755.0</td>\n",
       "      <td>755</td>\n",
       "      <td>...</td>\n",
       "      <td>1</td>\n",
       "      <td>1</td>\n",
       "      <td>1</td>\n",
       "      <td>0</td>\n",
       "      <td>4</td>\n",
       "      <td>1</td>\n",
       "      <td>3</td>\n",
       "      <td>1</td>\n",
       "      <td>0</td>\n",
       "      <td>0</td>\n",
       "    </tr>\n",
       "    <tr>\n",
       "      <th>1731</th>\n",
       "      <td>6390</td>\n",
       "      <td>6</td>\n",
       "      <td>1954</td>\n",
       "      <td>1954</td>\n",
       "      <td>0.0</td>\n",
       "      <td>0.0</td>\n",
       "      <td>0.0</td>\n",
       "      <td>936.0</td>\n",
       "      <td>936.0</td>\n",
       "      <td>984</td>\n",
       "      <td>...</td>\n",
       "      <td>1</td>\n",
       "      <td>1</td>\n",
       "      <td>1</td>\n",
       "      <td>0</td>\n",
       "      <td>0</td>\n",
       "      <td>1</td>\n",
       "      <td>1</td>\n",
       "      <td>2</td>\n",
       "      <td>0</td>\n",
       "      <td>0</td>\n",
       "    </tr>\n",
       "    <tr>\n",
       "      <th>763</th>\n",
       "      <td>8944</td>\n",
       "      <td>5</td>\n",
       "      <td>1967</td>\n",
       "      <td>1967</td>\n",
       "      <td>0.0</td>\n",
       "      <td>0.0</td>\n",
       "      <td>0.0</td>\n",
       "      <td>1584.0</td>\n",
       "      <td>1584.0</td>\n",
       "      <td>1584</td>\n",
       "      <td>...</td>\n",
       "      <td>1</td>\n",
       "      <td>1</td>\n",
       "      <td>1</td>\n",
       "      <td>3</td>\n",
       "      <td>0</td>\n",
       "      <td>1</td>\n",
       "      <td>1</td>\n",
       "      <td>2</td>\n",
       "      <td>0</td>\n",
       "      <td>0</td>\n",
       "    </tr>\n",
       "    <tr>\n",
       "      <th>835</th>\n",
       "      <td>7506</td>\n",
       "      <td>5</td>\n",
       "      <td>1925</td>\n",
       "      <td>1950</td>\n",
       "      <td>0.0</td>\n",
       "      <td>0.0</td>\n",
       "      <td>0.0</td>\n",
       "      <td>747.0</td>\n",
       "      <td>747.0</td>\n",
       "      <td>747</td>\n",
       "      <td>...</td>\n",
       "      <td>1</td>\n",
       "      <td>1</td>\n",
       "      <td>1</td>\n",
       "      <td>0</td>\n",
       "      <td>0</td>\n",
       "      <td>1</td>\n",
       "      <td>3</td>\n",
       "      <td>0</td>\n",
       "      <td>0</td>\n",
       "      <td>0</td>\n",
       "    </tr>\n",
       "    <tr>\n",
       "      <th>1653</th>\n",
       "      <td>10152</td>\n",
       "      <td>6</td>\n",
       "      <td>1956</td>\n",
       "      <td>1994</td>\n",
       "      <td>0.0</td>\n",
       "      <td>914.0</td>\n",
       "      <td>0.0</td>\n",
       "      <td>210.0</td>\n",
       "      <td>1124.0</td>\n",
       "      <td>1124</td>\n",
       "      <td>...</td>\n",
       "      <td>1</td>\n",
       "      <td>5</td>\n",
       "      <td>1</td>\n",
       "      <td>0</td>\n",
       "      <td>1</td>\n",
       "      <td>3</td>\n",
       "      <td>1</td>\n",
       "      <td>2</td>\n",
       "      <td>0</td>\n",
       "      <td>0</td>\n",
       "    </tr>\n",
       "  </tbody>\n",
       "</table>\n",
       "<p>2064 rows × 39 columns</p>\n",
       "</div>"
      ],
      "text/plain": [
       "      LotArea  OverallQual  YearBuilt  YearRemodAdd  MasVnrArea  BsmtFinSF1  \\\n",
       "2467    14559            5       1951          2000        70.0       650.0   \n",
       "220     11952            7       1977          1977         0.0         0.0   \n",
       "1101     8546            4       2003          2004         0.0         0.0   \n",
       "17       8248            3       1914          1950         0.0        41.0   \n",
       "58      10542            7       1993          1994       651.0      1173.0   \n",
       "...       ...          ...        ...           ...         ...         ...   \n",
       "1033     9084            4       1940          1950         0.0         0.0   \n",
       "1731     6390            6       1954          1954         0.0         0.0   \n",
       "763      8944            5       1967          1967         0.0         0.0   \n",
       "835      7506            5       1925          1950         0.0         0.0   \n",
       "1653    10152            6       1956          1994         0.0       914.0   \n",
       "\n",
       "      BsmtFinSF2  BsmtUnfSF  TotalBsmtSF  1stFlrSF  ...  BsmtFinType2_Enc  \\\n",
       "2467       180.0      178.0       1008.0      1363  ...                 3   \n",
       "220          0.0      808.0        808.0      1161  ...                 1   \n",
       "1101         0.0     1121.0       1121.0      1121  ...                 1   \n",
       "17           0.0      823.0        864.0       864  ...                 1   \n",
       "58           0.0      138.0       1311.0      1325  ...                 1   \n",
       "...          ...        ...          ...       ...  ...               ...   \n",
       "1033         0.0      755.0        755.0       755  ...                 1   \n",
       "1731         0.0      936.0        936.0       984  ...                 1   \n",
       "763          0.0     1584.0       1584.0      1584  ...                 1   \n",
       "835          0.0      747.0        747.0       747  ...                 1   \n",
       "1653         0.0      210.0       1124.0      1124  ...                 1   \n",
       "\n",
       "      HeatingQC_Enc  KitchenQual_Enc  Functional_Enc  FireplaceQu_Enc  \\\n",
       "2467              5                1               1                1   \n",
       "220               1                1               0                4   \n",
       "1101              5                1               0                0   \n",
       "17                1                1               0                0   \n",
       "58                5                4               0                1   \n",
       "...             ...              ...             ...              ...   \n",
       "1033              1                1               0                4   \n",
       "1731              1                1               0                0   \n",
       "763               1                1               3                0   \n",
       "835               1                1               0                0   \n",
       "1653              5                1               0                1   \n",
       "\n",
       "      GarageFinish_Enc  GarageQual_Enc  PavedDrive_Enc  PoolQC_Enc  \\\n",
       "2467                 1               1               2           0   \n",
       "220                  2               1               2           0   \n",
       "1101                 2               1               2           0   \n",
       "17                   0               0               0           0   \n",
       "58                   2               1               2           0   \n",
       "...                ...             ...             ...         ...   \n",
       "1033                 1               3               1           0   \n",
       "1731                 1               1               2           0   \n",
       "763                  1               1               2           0   \n",
       "835                  1               3               0           0   \n",
       "1653                 3               1               2           0   \n",
       "\n",
       "      LandContour_HLS  \n",
       "2467                0  \n",
       "220                 0  \n",
       "1101                0  \n",
       "17                  0  \n",
       "58                  0  \n",
       "...               ...  \n",
       "1033                0  \n",
       "1731                0  \n",
       "763                 0  \n",
       "835                 0  \n",
       "1653                0  \n",
       "\n",
       "[2064 rows x 39 columns]"
      ]
     },
     "execution_count": 18,
     "metadata": {},
     "output_type": "execute_result"
    }
   ],
   "source": [
    "X2 = X[keep_feat_new]\n",
    "X2"
   ]
  },
  {
   "cell_type": "code",
   "execution_count": 19,
   "id": "5602ab84",
   "metadata": {},
   "outputs": [
    {
     "data": {
      "text/html": [
       "<div>\n",
       "<style scoped>\n",
       "    .dataframe tbody tr th:only-of-type {\n",
       "        vertical-align: middle;\n",
       "    }\n",
       "\n",
       "    .dataframe tbody tr th {\n",
       "        vertical-align: top;\n",
       "    }\n",
       "\n",
       "    .dataframe thead th {\n",
       "        text-align: right;\n",
       "    }\n",
       "</style>\n",
       "<table border=\"1\" class=\"dataframe\">\n",
       "  <thead>\n",
       "    <tr style=\"text-align: right;\">\n",
       "      <th></th>\n",
       "      <th>0</th>\n",
       "      <th>1</th>\n",
       "    </tr>\n",
       "  </thead>\n",
       "  <tbody>\n",
       "    <tr>\n",
       "      <th>37</th>\n",
       "      <td>PoolQC_Enc</td>\n",
       "      <td>20292.198437</td>\n",
       "    </tr>\n",
       "    <tr>\n",
       "      <th>38</th>\n",
       "      <td>LandContour_HLS</td>\n",
       "      <td>13914.346771</td>\n",
       "    </tr>\n",
       "    <tr>\n",
       "      <th>1</th>\n",
       "      <td>OverallQual</td>\n",
       "      <td>11935.167128</td>\n",
       "    </tr>\n",
       "    <tr>\n",
       "      <th>12</th>\n",
       "      <td>BedroomAbvGr</td>\n",
       "      <td>6213.311890</td>\n",
       "    </tr>\n",
       "    <tr>\n",
       "      <th>32</th>\n",
       "      <td>Functional_Enc</td>\n",
       "      <td>4918.958800</td>\n",
       "    </tr>\n",
       "    <tr>\n",
       "      <th>14</th>\n",
       "      <td>Fireplaces</td>\n",
       "      <td>3334.873689</td>\n",
       "    </tr>\n",
       "    <tr>\n",
       "      <th>31</th>\n",
       "      <td>KitchenQual_Enc</td>\n",
       "      <td>3027.979339</td>\n",
       "    </tr>\n",
       "    <tr>\n",
       "      <th>26</th>\n",
       "      <td>ExterQual_Enc</td>\n",
       "      <td>2681.583742</td>\n",
       "    </tr>\n",
       "    <tr>\n",
       "      <th>27</th>\n",
       "      <td>BsmtExposure_Enc</td>\n",
       "      <td>2321.289157</td>\n",
       "    </tr>\n",
       "    <tr>\n",
       "      <th>13</th>\n",
       "      <td>TotRmsAbvGrd</td>\n",
       "      <td>2264.436508</td>\n",
       "    </tr>\n",
       "    <tr>\n",
       "      <th>33</th>\n",
       "      <td>FireplaceQu_Enc</td>\n",
       "      <td>2000.664093</td>\n",
       "    </tr>\n",
       "    <tr>\n",
       "      <th>35</th>\n",
       "      <td>GarageQual_Enc</td>\n",
       "      <td>1705.987984</td>\n",
       "    </tr>\n",
       "    <tr>\n",
       "      <th>16</th>\n",
       "      <td>GarageCars</td>\n",
       "      <td>1452.701964</td>\n",
       "    </tr>\n",
       "    <tr>\n",
       "      <th>30</th>\n",
       "      <td>HeatingQC_Enc</td>\n",
       "      <td>1364.151245</td>\n",
       "    </tr>\n",
       "  </tbody>\n",
       "</table>\n",
       "</div>"
      ],
      "text/plain": [
       "                   0             1\n",
       "37        PoolQC_Enc  20292.198437\n",
       "38   LandContour_HLS  13914.346771\n",
       "1        OverallQual  11935.167128\n",
       "12      BedroomAbvGr   6213.311890\n",
       "32    Functional_Enc   4918.958800\n",
       "14        Fireplaces   3334.873689\n",
       "31   KitchenQual_Enc   3027.979339\n",
       "26     ExterQual_Enc   2681.583742\n",
       "27  BsmtExposure_Enc   2321.289157\n",
       "13      TotRmsAbvGrd   2264.436508\n",
       "33   FireplaceQu_Enc   2000.664093\n",
       "35    GarageQual_Enc   1705.987984\n",
       "16        GarageCars   1452.701964\n",
       "30     HeatingQC_Enc   1364.151245"
      ]
     },
     "execution_count": 19,
     "metadata": {},
     "output_type": "execute_result"
    }
   ],
   "source": [
    "### lasso round 2 with no dummy data\n",
    "clv = Lasso(random_state=0).fit(X2, y_train)\n",
    "search = GridSearchCV(Lasso(random_state=0, tol=.01), \n",
    "                      {'alpha': np.arange(0.01,1000,1)},\n",
    "                     cv=5,\n",
    "        scoring='neg_mean_squared_error'\n",
    "                     )\n",
    "search.fit(X2, y_train)\n",
    "search.best_params_\n",
    "\n",
    "pickle.dump(search, open('flask_fsgs2.sav', 'wb'))\n",
    "search = pickle.load(open('flask_fsgs2.sav', 'rb'))\n",
    "search.best_params_\n",
    "\n",
    "coefficients = search.best_estimator_.coef_\n",
    "importance = np.abs(coefficients)\n",
    "features = X2.columns\n",
    "keep_feat = np.array(features)[importance > 0]\n",
    "\n",
    "df_imp = pd.DataFrame(zip(keep_feat,importance)).sort_values(1, ascending = False)\n",
    "df_imp = df_imp.loc[df_imp[1]>1000]\n",
    "df_imp"
   ]
  },
  {
   "cell_type": "code",
   "execution_count": 20,
   "id": "d0b21db1",
   "metadata": {},
   "outputs": [],
   "source": [
    "######## 16 feature test --> 76.754% best accuracy  #############\n",
    "\n",
    "# X3_train = X_train[df_imp[0]]\n",
    "# X3_test = X_test[df_imp[0]]"
   ]
  },
  {
   "cell_type": "code",
   "execution_count": 21,
   "id": "0e0742d2",
   "metadata": {},
   "outputs": [],
   "source": [
    "########## KEEP 47 FEATURES LEFT BY LASSO ############\n",
    "\n",
    "X3_train = X_train[keep_feat]\n",
    "X3_test = X_test[keep_feat]"
   ]
  },
  {
   "cell_type": "markdown",
   "id": "516e497b",
   "metadata": {},
   "source": [
    "### Train Model"
   ]
  },
  {
   "cell_type": "code",
   "execution_count": 22,
   "id": "3012fb6b",
   "metadata": {
    "scrolled": true
   },
   "outputs": [
    {
     "data": {
      "text/plain": [
       "Lasso(random_state=0)"
      ]
     },
     "execution_count": 22,
     "metadata": {},
     "output_type": "execute_result"
    }
   ],
   "source": [
    "las2 = Lasso(random_state=0)\n",
    "las2.fit(X3_train, y_train)"
   ]
  },
  {
   "cell_type": "code",
   "execution_count": 23,
   "id": "98fe7802",
   "metadata": {},
   "outputs": [
    {
     "data": {
      "text/plain": [
       "0.8898291126292244"
      ]
     },
     "execution_count": 23,
     "metadata": {},
     "output_type": "execute_result"
    }
   ],
   "source": [
    "y_pred = las2.predict(X3_test)\n",
    "r2_score(y_test, y_pred)"
   ]
  },
  {
   "cell_type": "code",
   "execution_count": 24,
   "id": "d00e08fd",
   "metadata": {},
   "outputs": [],
   "source": [
    "######## SCALER ##########\n",
    "# mms = MinMaxScaler()\n",
    "# mms.fit(X3_train)\n",
    "# X3_train = mms.transform(X3_train)\n",
    "# pickle.dump(mms, open('MinMaxScaler.pkl', 'wb'))"
   ]
  },
  {
   "cell_type": "code",
   "execution_count": 25,
   "id": "8359f31d",
   "metadata": {},
   "outputs": [],
   "source": [
    "# pipe = make_pipeline(\n",
    "#             MinMaxScaler(),\n",
    "#             Lasso()\n",
    "# )\n",
    "# pipe.fit(X3_train,y_train)\n",
    "# print('pipe score',pipe.score(X3_test,y_test))     "
   ]
  },
  {
   "cell_type": "code",
   "execution_count": 26,
   "id": "1eed7451",
   "metadata": {},
   "outputs": [],
   "source": [
    "######### GRID SEARCH CV ##########\n",
    "\n",
    "# Grid Search Cross Validation\n",
    "# params = {'alpha': np.arange(-1000,1000,10),\n",
    "#           'selection': ['cyclic','random']}\n",
    "# clf = las.fit(X3_train, y_train)\n",
    "# gs = GridSearchCV(clf, param_grid=params, cv=3)\n",
    "# gs.fit(X3_train,y_train)\n",
    "# print('best CV score:', gs.best_score_)\n",
    "# print('best hyperparameter combination:', gs.best_params_)"
   ]
  },
  {
   "cell_type": "code",
   "execution_count": 27,
   "id": "93c3252f",
   "metadata": {},
   "outputs": [],
   "source": [
    "# y_pred = gs.best_estimator_.predict(X3_test)\n",
    "# r2_score(y_test, y_pred)"
   ]
  },
  {
   "cell_type": "markdown",
   "id": "2d5b7e55",
   "metadata": {},
   "source": [
    "### Pickle for Flask"
   ]
  },
  {
   "cell_type": "code",
   "execution_count": 28,
   "id": "48b9c3e0",
   "metadata": {},
   "outputs": [],
   "source": [
    "# no grid search / no scaler lasso performed the best \n",
    "# --> not enough time to keep experimenting\n",
    "model = las2\n",
    "pickle.dump(model, open('dash_model.pkl','wb'))"
   ]
  },
  {
   "cell_type": "markdown",
   "id": "8c661447",
   "metadata": {},
   "source": [
    "### Dashboard Pipeline\n",
    "- ~~dummify~~\n",
    "- ~~scale~~\n",
    "- predict"
   ]
  },
  {
   "cell_type": "code",
   "execution_count": 29,
   "id": "3836c646",
   "metadata": {},
   "outputs": [],
   "source": [
    "model = pickle.load(open('dash_model.pkl','rb'))\n",
    "sample_input = X3_test.sample(1, random_state=1)\n",
    "prediction = model.predict(sample_input)"
   ]
  },
  {
   "cell_type": "code",
   "execution_count": null,
   "id": "94dde536",
   "metadata": {},
   "outputs": [],
   "source": [
    "pd.DataFrame(sample_input).to_csv('sample input.csv')"
   ]
  },
  {
   "cell_type": "code",
   "execution_count": 86,
   "id": "00632c99",
   "metadata": {},
   "outputs": [
    {
     "data": {
      "text/plain": [
       "107400"
      ]
     },
     "execution_count": 86,
     "metadata": {},
     "output_type": "execute_result"
    }
   ],
   "source": [
    "y_test[634]"
   ]
  },
  {
   "cell_type": "code",
   "execution_count": 84,
   "id": "919cb2f8",
   "metadata": {},
   "outputs": [
    {
     "data": {
      "text/html": [
       "<div>\n",
       "<style scoped>\n",
       "    .dataframe tbody tr th:only-of-type {\n",
       "        vertical-align: middle;\n",
       "    }\n",
       "\n",
       "    .dataframe tbody tr th {\n",
       "        vertical-align: top;\n",
       "    }\n",
       "\n",
       "    .dataframe thead th {\n",
       "        text-align: right;\n",
       "    }\n",
       "</style>\n",
       "<table border=\"1\" class=\"dataframe\">\n",
       "  <thead>\n",
       "    <tr style=\"text-align: right;\">\n",
       "      <th></th>\n",
       "      <th>GrLivArea</th>\n",
       "      <th>SalePrice</th>\n",
       "      <th>MSSubClass</th>\n",
       "      <th>LotArea</th>\n",
       "      <th>OverallQual</th>\n",
       "      <th>OverallCond</th>\n",
       "      <th>YearBuilt</th>\n",
       "      <th>YearRemodAdd</th>\n",
       "      <th>MasVnrArea</th>\n",
       "      <th>BsmtFinSF1</th>\n",
       "      <th>...</th>\n",
       "      <th>SaleType_ConLw</th>\n",
       "      <th>SaleType_New</th>\n",
       "      <th>SaleType_Oth</th>\n",
       "      <th>SaleType_VWD</th>\n",
       "      <th>SaleType_WD</th>\n",
       "      <th>SaleCondition_AdjLand</th>\n",
       "      <th>SaleCondition_Alloca</th>\n",
       "      <th>SaleCondition_Family</th>\n",
       "      <th>SaleCondition_Normal</th>\n",
       "      <th>SaleCondition_Partial</th>\n",
       "    </tr>\n",
       "  </thead>\n",
       "  <tbody>\n",
       "    <tr>\n",
       "      <th>1475</th>\n",
       "      <td>1869</td>\n",
       "      <td>124900</td>\n",
       "      <td>50</td>\n",
       "      <td>8820</td>\n",
       "      <td>5</td>\n",
       "      <td>6</td>\n",
       "      <td>1890</td>\n",
       "      <td>1996</td>\n",
       "      <td>0.0</td>\n",
       "      <td>1088.0</td>\n",
       "      <td>...</td>\n",
       "      <td>0</td>\n",
       "      <td>0</td>\n",
       "      <td>0</td>\n",
       "      <td>0</td>\n",
       "      <td>1</td>\n",
       "      <td>0</td>\n",
       "      <td>0</td>\n",
       "      <td>0</td>\n",
       "      <td>1</td>\n",
       "      <td>0</td>\n",
       "    </tr>\n",
       "  </tbody>\n",
       "</table>\n",
       "<p>1 rows × 203 columns</p>\n",
       "</div>"
      ],
      "text/plain": [
       "      GrLivArea  SalePrice  MSSubClass  LotArea  OverallQual  OverallCond  \\\n",
       "1475       1869     124900          50     8820            5            6   \n",
       "\n",
       "      YearBuilt  YearRemodAdd  MasVnrArea  BsmtFinSF1  ...  SaleType_ConLw  \\\n",
       "1475       1890          1996         0.0      1088.0  ...               0   \n",
       "\n",
       "      SaleType_New  SaleType_Oth  SaleType_VWD  SaleType_WD   \\\n",
       "1475             0             0             0             1   \n",
       "\n",
       "      SaleCondition_AdjLand  SaleCondition_Alloca  SaleCondition_Family  \\\n",
       "1475                      0                     0                     0   \n",
       "\n",
       "      SaleCondition_Normal  SaleCondition_Partial  \n",
       "1475                     1                      0  \n",
       "\n",
       "[1 rows x 203 columns]"
      ]
     },
     "execution_count": 84,
     "metadata": {},
     "output_type": "execute_result"
    }
   ],
   "source": [
    "data.sample(1, random_state=2)"
   ]
  },
  {
   "cell_type": "code",
   "execution_count": 31,
   "id": "831e4219",
   "metadata": {},
   "outputs": [
    {
     "data": {
      "text/plain": [
       "array([105171.329933])"
      ]
     },
     "execution_count": 31,
     "metadata": {},
     "output_type": "execute_result"
    }
   ],
   "source": [
    "prediction"
   ]
  },
  {
   "cell_type": "code",
   "execution_count": 81,
   "id": "a6cb924b",
   "metadata": {},
   "outputs": [
    {
     "data": {
      "text/plain": [
       "array([105171.329933])"
      ]
     },
     "execution_count": 81,
     "metadata": {},
     "output_type": "execute_result"
    }
   ],
   "source": [
    "# check if works with array vs df for app\n",
    "sample_array = sample_input.to_numpy()\n",
    "model.predict(sample_array)"
   ]
  },
  {
   "cell_type": "code",
   "execution_count": 32,
   "id": "6015ab37",
   "metadata": {},
   "outputs": [
    {
     "data": {
      "text/plain": [
       "18118.90217577298"
      ]
     },
     "execution_count": 32,
     "metadata": {},
     "output_type": "execute_result"
    }
   ],
   "source": [
    "# calculate mean absolute error to provide prediction range in app \n",
    "y_pred = model.predict(X3_test)\n",
    "mae = mean_absolute_error(y_test, y_pred)\n",
    "mae"
   ]
  },
  {
   "cell_type": "markdown",
   "id": "a3520252",
   "metadata": {},
   "source": [
    "#### References for creating app"
   ]
  },
  {
   "cell_type": "code",
   "execution_count": 92,
   "id": "5bea9fab",
   "metadata": {},
   "outputs": [
    {
     "data": {
      "text/plain": [
       "3"
      ]
     },
     "execution_count": 92,
     "metadata": {},
     "output_type": "execute_result"
    }
   ],
   "source": [
    "data['GarageFinish_Enc'].max()"
   ]
  },
  {
   "cell_type": "code",
   "execution_count": 89,
   "id": "fa648e51",
   "metadata": {
    "scrolled": true
   },
   "outputs": [
    {
     "data": {
      "text/plain": [
       "Index(['LotArea', 'OverallQual', 'YearBuilt', 'YearRemodAdd', 'MasVnrArea',\n",
       "       'BsmtFinSF1', 'BsmtFinSF2', 'BsmtUnfSF', 'TotalBsmtSF', '1stFlrSF',\n",
       "       '2ndFlrSF', 'LowQualFinSF', 'BedroomAbvGr', 'TotRmsAbvGrd',\n",
       "       'Fireplaces', 'GarageYrBlt', 'GarageCars', 'GarageArea', 'WoodDeckSF',\n",
       "       'OpenPorchSF', 'EnclosedPorch', '3SsnPorch', 'ScreenPorch', 'PoolArea',\n",
       "       'MoSold', 'YrSold', 'ExterQual_Enc', 'BsmtExposure_Enc',\n",
       "       'BsmtFinType1_Enc', 'BsmtFinType2_Enc', 'HeatingQC_Enc',\n",
       "       'KitchenQual_Enc', 'Functional_Enc', 'FireplaceQu_Enc',\n",
       "       'GarageFinish_Enc', 'GarageQual_Enc', 'PavedDrive_Enc', 'PoolQC_Enc',\n",
       "       'LandContour_HLS'],\n",
       "      dtype='object')"
      ]
     },
     "execution_count": 89,
     "metadata": {},
     "output_type": "execute_result"
    }
   ],
   "source": [
    "sample_input.columns"
   ]
  },
  {
   "cell_type": "code",
   "execution_count": 98,
   "id": "f406c097",
   "metadata": {},
   "outputs": [
    {
     "data": {
      "text/plain": [
       "Index(['LotArea', 'OverallQual', 'YearBuilt', 'YearRemodAdd', 'MasVnrArea',\n",
       "       'BsmtFinSF1', 'BsmtFinSF2', 'BsmtUnfSF', 'TotalBsmtSF', '1stFlrSF',\n",
       "       '2ndFlrSF', 'LowQualFinSF', 'BedroomAbvGr', 'TotRmsAbvGrd',\n",
       "       'Fireplaces', 'GarageYrBlt', 'GarageCars', 'GarageArea', 'WoodDeckSF',\n",
       "       'OpenPorchSF', 'EnclosedPorch', '3SsnPorch', 'ScreenPorch', 'PoolArea',\n",
       "       'MoSold', 'YrSold', 'ExterQual_Enc', 'BsmtExposure_Enc',\n",
       "       'BsmtFinType1_Enc', 'BsmtFinType2_Enc', 'HeatingQC_Enc',\n",
       "       'KitchenQual_Enc', 'Functional_Enc', 'FireplaceQu_Enc',\n",
       "       'GarageFinish_Enc', 'GarageQual_Enc', 'PavedDrive_Enc', 'PoolQC_Enc',\n",
       "       'LandContour_HLS'],\n",
       "      dtype='object')"
      ]
     },
     "execution_count": 98,
     "metadata": {},
     "output_type": "execute_result"
    }
   ],
   "source": [
    "sample_input.columns"
   ]
  },
  {
   "cell_type": "code",
   "execution_count": null,
   "id": "7f3a1504",
   "metadata": {},
   "outputs": [],
   "source": [
    "#### for translating dummified data input.... not enough time\n",
    "\n",
    "# sample_raw = {}\n",
    "\n",
    "# index_dict = dict(zip(df.columns,range(df.shape[1])))\n",
    "\n",
    "# new_vector = np.zeroes(297)\n",
    "# try:\n",
    "#     new_vector[index_dict[origin]] = 1\n",
    "# except:\n",
    "#     pass\n",
    "# try:\n",
    "#     new_vector[index_dict[destination]] = 1\n",
    "# except:\n",
    "#     pass\n",
    "# try:\n",
    "#     new_vector[index_dict[carrier]] = 1\n",
    "# except:\n",
    "#     pass"
   ]
  },
  {
   "cell_type": "code",
   "execution_count": null,
   "id": "3db190a1",
   "metadata": {},
   "outputs": [],
   "source": []
  }
 ],
 "metadata": {
  "kernelspec": {
   "display_name": "Python 3",
   "language": "python",
   "name": "python3"
  },
  "language_info": {
   "codemirror_mode": {
    "name": "ipython",
    "version": 3
   },
   "file_extension": ".py",
   "mimetype": "text/x-python",
   "name": "python",
   "nbconvert_exporter": "python",
   "pygments_lexer": "ipython3",
   "version": "3.8.8"
  }
 },
 "nbformat": 4,
 "nbformat_minor": 5
}
